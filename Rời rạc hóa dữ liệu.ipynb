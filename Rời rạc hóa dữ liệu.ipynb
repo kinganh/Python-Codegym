{
 "cells": [
  {
   "cell_type": "code",
   "execution_count": 5,
   "id": "b53aea9d",
   "metadata": {},
   "outputs": [
    {
     "name": "stdout",
     "output_type": "stream",
     "text": [
      "[(18, 25], (18, 25], (18, 25], (25, 35], (18, 25], ..., (25, 35], (60, 100], (35, 60], (35, 60], (25, 35]]\n",
      "Length: 12\n",
      "Categories (4, interval[int64, right]): [(18, 25] < (25, 35] < (35, 60] < (60, 100]]\n",
      "['Youth', 'Youth', 'Youth', 'YoungAdult', 'Youth', ..., 'YoungAdult', 'Senior', 'MiddleAged', 'MiddleAged', 'YoungAdult']\n",
      "Length: 12\n",
      "Categories (4, object): ['Youth' < 'YoungAdult' < 'MiddleAged' < 'Senior']\n",
      "[0 0 0 1 0 0 2 1 3 2 2 1]\n",
      "IntervalIndex([(18, 25], (25, 35], (35, 60], (60, 100]], dtype='interval[int64, right]')\n"
     ]
    },
    {
     "data": {
      "text/plain": [
       "(18, 25]     5\n",
       "(25, 35]     3\n",
       "(35, 60]     3\n",
       "(60, 100]    1\n",
       "dtype: int64"
      ]
     },
     "execution_count": 5,
     "metadata": {},
     "output_type": "execute_result"
    }
   ],
   "source": [
    "import pandas as pd\n",
    "\n",
    "ages = [20, 22, 25, 27, 21, 23, 37, 31, 61, 45, 41, 32]\n",
    "\n",
    "bins = [18, 25, 35, 60, 100]\n",
    "\n",
    "group_names = ['Youth', 'YoungAdult', 'MiddleAged', 'Senior']\n",
    "\n",
    "cats = pd.cut(ages,bins)\n",
    "\n",
    "catss = pd.cut(ages, bins, labels=group_names)\n",
    "\n",
    "print(cats)\n",
    "print(catss)\n",
    "print(cats.codes)\n",
    "print(cats.categories)\n",
    "pd.value_counts(cats)"
   ]
  },
  {
   "cell_type": "code",
   "execution_count": 6,
   "id": "818a240f",
   "metadata": {},
   "outputs": [
    {
     "name": "stdout",
     "output_type": "stream",
     "text": [
      "[(19.96, 28.2], (19.96, 28.2], (19.96, 28.2], (19.96, 28.2], (19.96, 28.2], ..., (28.2, 36.4], (52.8, 61.0], (44.6, 52.8], (36.4, 44.6], (28.2, 36.4]]\n",
      "Length: 12\n",
      "Categories (5, interval[float64, right]): [(19.96, 28.2] < (28.2, 36.4] < (36.4, 44.6] < (44.6, 52.8] < (52.8, 61.0]]\n"
     ]
    }
   ],
   "source": [
    "ages = [20, 22, 25, 27, 21, 23, 37, 31, 61, 45, 41, 32]\n",
    "\n",
    "bins = [18, 25, 35, 60, 100]\n",
    "\n",
    "print(pd.cut(ages, 5, precision=2)) # 2 chữ số sau dấu , của các đầu mút"
   ]
  },
  {
   "cell_type": "code",
   "execution_count": 9,
   "id": "34b92a7b",
   "metadata": {},
   "outputs": [
    {
     "name": "stdout",
     "output_type": "stream",
     "text": [
      "[(-0.246, 0.354], (-3.135, -0.797], (0.933, 3.137], (-0.246, 0.354], (-0.797, -0.246], ..., (0.354, 0.933], (-0.246, 0.354], (-3.135, -0.797], (0.354, 0.933], (-3.135, -0.797]]\n",
      "Length: 1000\n",
      "Categories (5, interval[float64, right]): [(-3.135, -0.797] < (-0.797, -0.246] < (-0.246, 0.354] < (0.354, 0.933] < (0.933, 3.137]]\n"
     ]
    },
    {
     "data": {
      "text/plain": [
       "(-3.135, -0.797]    200\n",
       "(-0.797, -0.246]    200\n",
       "(-0.246, 0.354]     200\n",
       "(0.354, 0.933]      200\n",
       "(0.933, 3.137]      200\n",
       "dtype: int64"
      ]
     },
     "execution_count": 9,
     "metadata": {},
     "output_type": "execute_result"
    }
   ],
   "source": [
    "import pandas as pd\n",
    "import numpy as np\n",
    "\n",
    "data = np.random.randn(1000)\n",
    "\n",
    "cats = pd.qcut(data,5)\n",
    "\n",
    "print(cats)\n",
    "\n",
    "pd.value_counts(cats)"
   ]
  }
 ],
 "metadata": {
  "kernelspec": {
   "display_name": "Python 3.9.12 ('base')",
   "language": "python",
   "name": "python3"
  },
  "language_info": {
   "codemirror_mode": {
    "name": "ipython",
    "version": 3
   },
   "file_extension": ".py",
   "mimetype": "text/x-python",
   "name": "python",
   "nbconvert_exporter": "python",
   "pygments_lexer": "ipython3",
   "version": "3.9.13"
  },
  "vscode": {
   "interpreter": {
    "hash": "3057f6de182408cafc49453becbc9eaf1f35760f9ea174f37b64ff4b841f125f"
   }
  }
 },
 "nbformat": 4,
 "nbformat_minor": 5
}
