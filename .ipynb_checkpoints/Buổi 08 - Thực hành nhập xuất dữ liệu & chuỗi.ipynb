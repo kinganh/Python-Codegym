{
 "cells": [
  {
   "cell_type": "markdown",
   "id": "5bc93fb0",
   "metadata": {},
   "source": [
    "# Thực hành nhập xuất dữ liệu & chuỗi\n",
    "\n",
    "### Bài tập tra cứu lệnh\n",
    "\n",
    "Nhập vào một chuỗi, kiểm tra xem chuỗi đó có ký tự nào là chữ in hoa hay không, nếu có thì in True, không có thì in False"
   ]
  },
  {
   "cell_type": "code",
   "execution_count": 4,
   "id": "4b3df2ba",
   "metadata": {},
   "outputs": [
    {
     "name": "stdout",
     "output_type": "stream",
     "text": [
      "Nhập thông tin: H64gdfgs\n",
      "True\n"
     ]
    }
   ],
   "source": [
    "a = input(\"Nhập thông tin: \")\n",
    "b = not a.islower() and not a.isdigit()\n",
    "print(b)"
   ]
  },
  {
   "cell_type": "markdown",
   "id": "e14eae7c",
   "metadata": {},
   "source": [
    "Nhập vào một chuỗi, kiểm tra xem chuỗi đó có ký tự nào là chữ in thường hay không, nếu có thì in True, không có thì in False"
   ]
  },
  {
   "cell_type": "code",
   "execution_count": 5,
   "id": "ab00180c",
   "metadata": {},
   "outputs": [
    {
     "name": "stdout",
     "output_type": "stream",
     "text": [
      "Nhập thông tin: gsdgdf\n",
      "True\n"
     ]
    }
   ],
   "source": [
    "a = input(\"Nhập thông tin: \")\n",
    "b = not a.isupper()\n",
    "print(b)"
   ]
  },
  {
   "cell_type": "markdown",
   "id": "eab86ecf",
   "metadata": {},
   "source": [
    "Nhập vào một chuỗi a và chuỗi b, tìm vị trí đầu tiên xuất hiện chuỗi b trong chuỗi a"
   ]
  },
  {
   "cell_type": "code",
   "execution_count": 2,
   "id": "051eb4af",
   "metadata": {},
   "outputs": [
    {
     "name": "stdout",
     "output_type": "stream",
     "text": [
      "a: Nguyen Kien\n",
      "b: Ki\n",
      "7\n"
     ]
    }
   ],
   "source": [
    "A = input(\"a: \")\n",
    "B = input(\"b: \")\n",
    "C = A.find(B)\n",
    "print(C)"
   ]
  },
  {
   "cell_type": "markdown",
   "id": "9239bc4e",
   "metadata": {},
   "source": [
    "Nhập vào một chuỗi a, hãy xóa từ đầu tiên trong chuỗi a, rồi in ra màn hình"
   ]
  },
  {
   "cell_type": "code",
   "execution_count": 4,
   "id": "90967cd9",
   "metadata": {},
   "outputs": [
    {
     "name": "stdout",
     "output_type": "stream",
     "text": [
      "a: Hom nay toi buon\n",
      "nay toi buon\n"
     ]
    }
   ],
   "source": [
    "A = input(\"a: \")\n",
    "B = A.find(\" \")\n",
    "C = A[B+1:]\n",
    "print(C)"
   ]
  },
  {
   "cell_type": "markdown",
   "id": "05b74fb4",
   "metadata": {},
   "source": [
    "### Bài 1\n",
    "\n",
    "Nhập vào một chuỗi, đếm xem có bao nhiêu từ trong chuỗi kết thúc bằng chữ n"
   ]
  },
  {
   "cell_type": "code",
   "execution_count": 4,
   "id": "d126675c",
   "metadata": {
    "scrolled": true
   },
   "outputs": [
    {
     "name": "stdout",
     "output_type": "stream",
     "text": [
      "nhập chuỗi: gfdsgdfn sdugren seiju aiufwa aioufn\n",
      "3\n"
     ]
    }
   ],
   "source": [
    "a = input(\"nhập chuỗi: \")\n",
    "b = len(a)\n",
    "c = a[b-1:] == \"n\"\n",
    "d = a.count(\"n \") + int(c)\n",
    "print(d)"
   ]
  },
  {
   "cell_type": "markdown",
   "id": "53a78d35",
   "metadata": {},
   "source": [
    "### Bài 2\n",
    "\n",
    "Nhập vào một chuỗi, kiểm tra xem chuỗi đó có ký tự hoa hoặc ký tự thường hay không."
   ]
  },
  {
   "cell_type": "code",
   "execution_count": 5,
   "id": "f5be8c39",
   "metadata": {},
   "outputs": [
    {
     "name": "stdout",
     "output_type": "stream",
     "text": [
      "nhập chuỗi: hfuaiwef dsjfhadsf454\n",
      "True\n"
     ]
    }
   ],
   "source": [
    "a = input(\"nhập chuỗi: \")\n",
    "k = 0\n",
    "count = 0\n",
    "for i in range(len(a)):\n",
    "    if a[k].isalpha():\n",
    "        count += 1\n",
    "    k += 1\n",
    "print(count >= 1)"
   ]
  },
  {
   "cell_type": "markdown",
   "id": "64ca662e",
   "metadata": {},
   "source": [
    "### Bài 3\n",
    "\n",
    "Nhập vào một chuỗi, kiểm tra tính đối xứng của chuỗi đó"
   ]
  },
  {
   "cell_type": "code",
   "execution_count": 8,
   "id": "749f4136",
   "metadata": {},
   "outputs": [
    {
     "name": "stdout",
     "output_type": "stream",
     "text": [
      "Nhập vào một chuỗi:123454231\n",
      "False\n"
     ]
    }
   ],
   "source": []
  },
  {
   "cell_type": "markdown",
   "id": "85dd8fef",
   "metadata": {},
   "source": [
    "### Bài 4\n",
    "\n",
    "Nhập vào một chuỗi, in ra các ký tự trong chuỗi và nếu là ký tự hoa thì in kèm True, ký tự thường thì in kèm False"
   ]
  },
  {
   "cell_type": "code",
   "execution_count": 10,
   "id": "0d099247",
   "metadata": {},
   "outputs": [
    {
     "name": "stdout",
     "output_type": "stream",
     "text": [
      "Nhập thông tin: DFASaw\n",
      "D True\n",
      "F True\n",
      "A True\n",
      "S True\n",
      "a False\n",
      "w False\n"
     ]
    }
   ],
   "source": [
    "a = input(\"Nhập thông tin: \")\n",
    "b = 0\n",
    "for i in range(len(a)):\n",
    "    k = a[b].isalpha() and a[b].isupper()\n",
    "    print(a[b],k)\n",
    "    b += 1"
   ]
  },
  {
   "cell_type": "markdown",
   "id": "1373dc74",
   "metadata": {},
   "source": [
    "### Bài 5\n",
    "\n",
    "Nhập vào một chuỗi, tìm các ký tự chỉ xuất hiện một lần trong chuỗi (nếu xuất hiện 1 lần in true, xuất hiện nhiều lần in false)\n",
    "\n",
    "Ví dụ:\n",
    "\n",
    "Nhập chuỗi: \"ABAbc\"\n",
    "\n",
    "In:\n",
    "\n",
    "A: False\n",
    "\n",
    "B: True\n",
    "\n",
    "A: False\n",
    "\n",
    "b: True\n",
    "\n",
    "c: True"
   ]
  },
  {
   "cell_type": "code",
   "execution_count": 13,
   "id": "a93bc53d",
   "metadata": {},
   "outputs": [
    {
     "name": "stdout",
     "output_type": "stream",
     "text": [
      "Nhập vào chuỗi: gfh sdfge\n",
      "g False\n",
      "f False\n",
      "h True\n",
      "  True\n",
      "s True\n",
      "d True\n",
      "f False\n",
      "g False\n",
      "e True\n"
     ]
    }
   ],
   "source": [
    "a = input(\"Nhập vào chuỗi: \")\n",
    "k = 0\n",
    "for i in range(len(a)):\n",
    "    print(a[k],a.count(a[k]) == 1)\n",
    "    k += 1"
   ]
  },
  {
   "cell_type": "markdown",
   "id": "69bebf4c",
   "metadata": {},
   "source": [
    "### Bài 6\n",
    "\n",
    "Nhập vào một chuỗi, kiểm tra trong chuỗi có con số hay không, nếu có in True, không có in False"
   ]
  },
  {
   "cell_type": "code",
   "execution_count": 1,
   "id": "1b4eab4f",
   "metadata": {},
   "outputs": [
    {
     "name": "stdout",
     "output_type": "stream",
     "text": [
      "Nhập thông tin: sdf3d\n",
      "True\n"
     ]
    }
   ],
   "source": [
    "a = input(\"Nhập thông tin: \")\n",
    "b = 0\n",
    "kt = False\n",
    "for i in range(len(a)):\n",
    "    kt = kt or a[b].isnumeric()\n",
    "    b += 1\n",
    "print(kt)"
   ]
  },
  {
   "cell_type": "markdown",
   "id": "1e51403c",
   "metadata": {},
   "source": [
    "### Bài 7\n",
    "\n",
    "Nhập vào một chuỗi, tách những con số có trong chuỗi ra rồi tính tổng của chúng\n",
    "\n",
    "In tổng lên màn hình"
   ]
  },
  {
   "cell_type": "code",
   "execution_count": 3,
   "id": "a34e349d",
   "metadata": {},
   "outputs": [
    {
     "name": "stdout",
     "output_type": "stream",
     "text": [
      "Nhập chuỗi: sdaf3245\n",
      "0\n"
     ]
    }
   ],
   "source": [
    "a = input(\"Nhập chuỗi: \")\n",
    "k = 0\n",
    "T = 0\n",
    "for i in range(len(a)):\n",
    "    solan = a.count(str(k))\n",
    "    k += 1\n",
    "    T = k*solan\n",
    "print(T)   \n"
   ]
  },
  {
   "cell_type": "markdown",
   "id": "e951779d",
   "metadata": {},
   "source": [
    "### Bài 8\n",
    "\n",
    "Nhập vào một chuỗi, đảo ngược chuỗi đã nhập rồi in ra màn hình"
   ]
  },
  {
   "cell_type": "code",
   "execution_count": null,
   "id": "9305f0f1",
   "metadata": {},
   "outputs": [],
   "source": []
  },
  {
   "cell_type": "markdown",
   "id": "04194b5c",
   "metadata": {},
   "source": [
    "### Bài 9\n",
    "\n",
    "Nhập vào một chuỗi, kiểm tra xem mỗi từ trong chuỗi có được viết hoa chữ cái đầu hay không, nếu tất cả đều được viết hoa thì in ra True, còn không thì in ra False\n",
    "\n",
    "Trong trường hợp là False, hãy viết hoa tất cả các chữ cái đầu của mỗi từ rồi in lên màn hình\n",
    "\n",
    "Cách làm thông thường:"
   ]
  },
  {
   "cell_type": "code",
   "execution_count": 8,
   "id": "9f947c7d",
   "metadata": {},
   "outputs": [
    {
     "name": "stdout",
     "output_type": "stream",
     "text": [
      "Nhập chuỗi: Nguyen kien Le Giang\n",
      "False\n"
     ]
    }
   ],
   "source": [
    "a = input(\"Nhập chuỗi: \")\n",
    "kt = True\n",
    "for i in range(a.count(\" \") + 1):\n",
    "    vt = a.find(\" \")\n",
    "    kt = kt and a[vt+1].isupper()\n",
    "    a = a[:vt] + \".\" + a[vt+1:]\n",
    "print(kt)"
   ]
  },
  {
   "cell_type": "markdown",
   "id": "f43e32af",
   "metadata": {},
   "source": [
    "Cách sử dụng lệnh có sẵn:"
   ]
  },
  {
   "cell_type": "code",
   "execution_count": 6,
   "id": "714f1412",
   "metadata": {},
   "outputs": [
    {
     "name": "stdout",
     "output_type": "stream",
     "text": [
      "Nhập thông tin: Nguyen Kien\n",
      "True\n",
      "Nguyen Kien\n"
     ]
    }
   ],
   "source": [
    "a = input(\"Nhập thông tin: \")\n",
    "print(a.istitle())\n",
    "print(a.title())"
   ]
  }
 ],
 "metadata": {
  "kernelspec": {
   "display_name": "Python 3 (ipykernel)",
   "language": "python",
   "name": "python3"
  },
  "language_info": {
   "codemirror_mode": {
    "name": "ipython",
    "version": 3
   },
   "file_extension": ".py",
   "mimetype": "text/x-python",
   "name": "python",
   "nbconvert_exporter": "python",
   "pygments_lexer": "ipython3",
   "version": "3.10.4"
  }
 },
 "nbformat": 4,
 "nbformat_minor": 5
}
