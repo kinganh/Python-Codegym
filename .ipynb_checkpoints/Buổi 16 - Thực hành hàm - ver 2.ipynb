{
 "cells": [
  {
   "cell_type": "markdown",
   "id": "028ffec3",
   "metadata": {},
   "source": [
    "# Thực hành hàm\n",
    "\n",
    "### Bài 1\n",
    "\n",
    "Viết hàm có dữ liệu đầu vào là 2 số a và b, số nào lớn hơn thì in bảng cửu chương của số đó"
   ]
  },
  {
   "cell_type": "code",
   "execution_count": 2,
   "id": "1974966b",
   "metadata": {},
   "outputs": [
    {
     "name": "stdout",
     "output_type": "stream",
     "text": [
      "9 x 1 = 9\n",
      "9 x 2 = 18\n",
      "9 x 3 = 27\n",
      "9 x 4 = 36\n",
      "9 x 5 = 45\n",
      "9 x 6 = 54\n",
      "9 x 7 = 63\n",
      "9 x 8 = 72\n",
      "9 x 9 = 81\n",
      "9 x 10 = 90\n"
     ]
    }
   ],
   "source": [
    "def BCC(a,b):\n",
    "    c = max(a,b)\n",
    "    for i in range(1,11):\n",
    "        print(c,\"x\",i,\"=\",c*i)\n",
    "BCC(7,9)"
   ]
  },
  {
   "cell_type": "markdown",
   "id": "9de8ffaa",
   "metadata": {},
   "source": [
    "### Bài 2\n",
    "\n",
    "Viết hàm `xoachuoi` có dữ liệu đầu vào là 2 chuỗi a và b, hãy tìm trong chuỗi a có chuỗi b hay không, nếu có hãy xóa toán bộ chuỗi b trong a.\n",
    "\n",
    "Sau đó trả về chuỗi a mới\n",
    "\n",
    "Ví dụ:\n",
    "\n",
    "chuoi1 = \"xin chào các bạn, các bạn có khỏe không?\"\n",
    "\n",
    "chuoi2 = \"các bạn\"\n",
    "\n",
    "chuoi3 = xoachuoi(chuoi1,chuoi2)\n",
    "\n",
    "print(chuoi3)\n",
    "\n",
    "Kết quả in ra là:\n",
    "xin chào ,  có khỏe không"
   ]
  },
  {
   "cell_type": "code",
   "execution_count": null,
   "id": "05de1584",
   "metadata": {},
   "outputs": [],
   "source": [
    "def xoachuoi(a,b):\n",
    "    c = \"\"\n",
    "    k = 0\n",
    "    for i in range(len(a)-len(b)+1):\n",
    "        if a[i:i]"
   ]
  },
  {
   "cell_type": "code",
   "execution_count": 5,
   "id": "9ac2db06",
   "metadata": {},
   "outputs": [
    {
     "name": "stdout",
     "output_type": "stream",
     "text": [
      "Nguyễn  Kiên\n"
     ]
    }
   ],
   "source": [
    "def xoachuoi(a,b):\n",
    "    return a.replace(b,\"\")\n",
    "\n",
    "print(xoachuoi(\"Nguyễn Huy Kiên\",\"Huy\"))"
   ]
  },
  {
   "cell_type": "markdown",
   "id": "d626394e",
   "metadata": {},
   "source": [
    "### Bài 3\n",
    "\n",
    "Viết hàm `kiemtramatkhau` với dữ liệu đầu vào là 1 chuỗi có công dụng như sau:\n",
    "\n",
    "Kiểm tra xem chuỗi đầu vào có phải là mật khẩu mạnh hay không, nếu có trả về True, nếu không trả về False\n",
    "\n",
    "Mật khẩu mạnh là mật khẩu phải có ít nhất 1 chữ hoa, 1 chữ thường, 1 số và 1 ký tự đặc biệt"
   ]
  },
  {
   "cell_type": "code",
   "execution_count": null,
   "id": "1ab0a47e",
   "metadata": {},
   "outputs": [],
   "source": []
  },
  {
   "cell_type": "code",
   "execution_count": null,
   "id": "875d88f5",
   "metadata": {},
   "outputs": [],
   "source": []
  },
  {
   "cell_type": "markdown",
   "id": "1572568f",
   "metadata": {},
   "source": [
    "### Bài 4\n",
    "\n",
    "Viết hàm có 5 dữ liệu đầu vào là 5 số nguyên, tìm giá trị lớn nhì trong 5 số đó"
   ]
  },
  {
   "cell_type": "code",
   "execution_count": 4,
   "id": "876707ae",
   "metadata": {},
   "outputs": [
    {
     "name": "stdout",
     "output_type": "stream",
     "text": [
      "77\n"
     ]
    }
   ],
   "source": [
    "def sothu2(a,b,c,d,e):\n",
    "    if a <= b:\n",
    "        a, b = b, a\n",
    "    if a <= c:\n",
    "        a, c = c, a\n",
    "    if a <= d:\n",
    "        a, d = d, a\n",
    "    if a <= e:\n",
    "        a, e = e, a\n",
    "    k = max(b,c,d,e)\n",
    "    print(k)\n",
    "    \n",
    "sothu2(5,9,77,65,318)\n",
    "    "
   ]
  },
  {
   "cell_type": "code",
   "execution_count": null,
   "id": "c796486b",
   "metadata": {},
   "outputs": [],
   "source": []
  },
  {
   "cell_type": "markdown",
   "id": "974d7da1",
   "metadata": {},
   "source": [
    "### Bài 5\n",
    "\n",
    "Nhập vào 2 cặp tọa độ tâm đường tròn và 2 bán kính R\n",
    "\n",
    "Hãy vẽ 2 đường tròn theo tọa độ và bán kính trên (tọa độ thứ nhất và bán kính thứ nhất là đường tròn thứ nhất, tọa độ thứ 2 với bán kính thứ 2 là đường tròn thứ hai)\n",
    "\n",
    "Viết hàm kiểm tra xem 2 đường tròn trên cắt nhau bao nhiêu điểm"
   ]
  },
  {
   "cell_type": "code",
   "execution_count": 1,
   "id": "f7722021",
   "metadata": {},
   "outputs": [
    {
     "name": "stdout",
     "output_type": "stream",
     "text": [
      "1\n"
     ]
    }
   ],
   "source": [
    "import math\n",
    "import turtle\n",
    "t = turtle.Turtle()\n",
    "t.speed(0)\n",
    "\n",
    "def duongtron1(x1,y1,R1):\n",
    "    t.penup()\n",
    "    t.goto(x1,y1-R1)\n",
    "    t.pendown()\n",
    "    t.circle(R1)\n",
    "    t.penup()\n",
    "    \n",
    "def duongtron2(x2,y2,R2):\n",
    "    t.goto(x2,y2-R2)\n",
    "    t.pendown()\n",
    "    t.circle(R2)\n",
    "\n",
    "giaodiem = 0    \n",
    "def giaodiem(x1,y1,R1,x2,y2,R2):\n",
    "    A = math.sqrt((x1-x2)**2+(y1-y2)**2)\n",
    "    B = R1 + R2\n",
    "    C = abs(R1 - R2)\n",
    "    if B < A:\n",
    "        giaodiem = 0\n",
    "    elif B == A:\n",
    "        giaodiem = 1\n",
    "    elif C == A:\n",
    "        giaodiem = 1\n",
    "    elif C < A and A < B:\n",
    "        giaodiem = 2\n",
    "    print(giaodiem)\n",
    "       \n",
    "duongtron1(50,0,25)\n",
    "duongtron2(100,0,75)\n",
    "giaodiem(50,0,25,100,0,75)"
   ]
  },
  {
   "cell_type": "markdown",
   "id": "a2157de8",
   "metadata": {},
   "source": [
    "### Bài 6\n",
    "\n",
    "Nhập vào 2 tọa độ là 2 đỉnh của một hình chữ nhật\n",
    "\n",
    "Sau đó\n",
    "\n",
    "Nhập vào tọa độ tâm đường tròn và bán kính R\n",
    "\n",
    "Hãy vẽ hình chữ nhật và đường tròn trên\n",
    "\n",
    "Viết hàm kiểm tra xem đường tròn trên và hình chữ nhật cắt nhau tại bao nhiêu điểm"
   ]
  },
  {
   "cell_type": "code",
   "execution_count": 1,
   "id": "e0d7b1a2",
   "metadata": {},
   "outputs": [],
   "source": [
    "import math\n",
    "import turtle\n",
    "t = turtle.Turtle()\n",
    "\n",
    "def hinhchunhat(x1,y1,x2,y2):\n",
    "    t.penup()\n",
    "    t.goto(x1,y1)\n",
    "    t.pendown()\n",
    "    t.goto(x2,y1)\n",
    "    t.goto(x2,y2)\n",
    "    t.goto(x1,y2)\n",
    "    t.goto(x1,y1)\n",
    "    t.penup()\n",
    "\n",
    "def duongtron(x,y,R):\n",
    "    t.goto(x,y-R)\n",
    "    t.pendown()\n",
    "    t.circle(R)\n",
    "    \n",
    "\n",
    "\n",
    "hinhchunhat(-200,50,-300,60)\n",
    "duongtron(100,100,50)"
   ]
  },
  {
   "cell_type": "markdown",
   "id": "d1491579",
   "metadata": {},
   "source": [
    "### Bài 7\n",
    "\n",
    "Viết hàm kiểm tra số nguyên tố\n",
    "\n",
    "Viết hàm kiểm tra số hoàn hảo\n",
    "\n",
    "Viết hàm kiểm tra số chính phương\n",
    "\n",
    "Viết hàm kiểm tra số Armstrong\n",
    "\n",
    "Nhập vào một chuỗi, hãy lọc và tìm ra những số ở trong chuỗi (2 chữ số liền nhau là một số)\n",
    "\n",
    "Ví dụ chuỗi: \"AB25SDc5DSjjh52\"\n",
    "\n",
    "Trong chuỗi này ta có 3 số: 25, 5 và 52\n",
    "\n",
    "Sau khi lọc số, dùng các hàm trên để kiểm tra và thực hiện như sau:\n",
    "\n",
    "Cho biến S\n",
    "\n",
    "- Nếu số đó là số nguyên tố, ta thực hiện S += số đó\n",
    "- Nếu số đó là số hoàn hảo, ta thực hiện S -= số đó\n",
    "- Nếu số đó là số chính phương, ta thực hiện S /= số đó\n",
    "- Nếu đó là số Armstrong ta cho S = 0\n",
    "\n",
    "Hãy tính và in S"
   ]
  },
  {
   "cell_type": "code",
   "execution_count": null,
   "id": "0b699e33",
   "metadata": {},
   "outputs": [],
   "source": [
    "def songuyento(a):\n",
    "    if a < 2:\n",
    "        return False\n",
    "    for i in range(2,a):\n",
    "        if a % i == 0:\n",
    "            return False\n",
    "    return True\n",
    "\n",
    "def sohoanhao(a):\n",
    "    tong = 0\n",
    "    for i in range(1,a):\n",
    "        if a % i == 0:\n",
    "            tong += 1\n",
    "    if tong == a:\n",
    "        return True\n",
    "    return False\n",
    "\n",
    "def sochinhphuong(a):\n",
    "    cana = a**0,5\n",
    "    return cana % 1 == 0\n",
    "\n",
    "def Armstrong(a):\n",
    "    slchuso = len(str(a))\n",
    "    tong = 0\n",
    "    a0 = 0\n",
    "    while a != 0:\n",
    "        tong += (a%10)**3\n",
    "        a // = a0\n",
    "    return tong == a0\n",
    "\n",
    "chuoi = input(\"Nhập chuỗi: \")\n",
    "chuoi += \"a\"\n",
    "luutru = \"\"\n",
    "S = 0\n",
    "for i in chuoi:\n",
    "    if i.isnumeric():\n",
    "        luutru += i\n",
    "    else: \n",
    "        if luutru != \"\":\n",
    "            luutru = int(luutru)\n",
    "            if songuyento(luutru):\n",
    "                S += luutru\n",
    "            elif sohoanhao(luutru):\n",
    "                S -= luutru\n",
    "            elif sochinhphuong(luutru):\n",
    "                S /= luutru"
   ]
  }
 ],
 "metadata": {
  "kernelspec": {
   "display_name": "Python 3 (ipykernel)",
   "language": "python",
   "name": "python3"
  },
  "language_info": {
   "codemirror_mode": {
    "name": "ipython",
    "version": 3
   },
   "file_extension": ".py",
   "mimetype": "text/x-python",
   "name": "python",
   "nbconvert_exporter": "python",
   "pygments_lexer": "ipython3",
   "version": "3.10.4"
  }
 },
 "nbformat": 4,
 "nbformat_minor": 5
}
