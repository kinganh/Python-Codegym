{
 "cells": [
  {
   "cell_type": "markdown",
   "id": "1c805421",
   "metadata": {},
   "source": [
    "# Lớp và đối tượng\n",
    "\n",
    "### Lớp (class) là gì?\n",
    "\n",
    "Lớp (Class) là tập hợp tất cả các đối tượng có chung các thuộc tính và hành vi."
   ]
  },
  {
   "cell_type": "markdown",
   "id": "812bf15e",
   "metadata": {},
   "source": [
    "### Khai báo lớp\n",
    "\n",
    "`class <tên lớp>:\n",
    "    <khai báo biến>\n",
    "    <khai báo hàm>`\n",
    "    \n",
    "Ví dụ:\n",
    "\n",
    "`class giangvien:\n",
    "    ten = \"Nguyễn Tâm Điền\"\n",
    "    mon = \"Python căn bản\"\n",
    "    def inten(self):\n",
    "        print(self.ten)        \n",
    "dien = giangvien()\n",
    "print(dien.mon)\n",
    "dien.inten()`\n",
    "\n",
    "##### Lưu ý:\n",
    "\n",
    "- giangvien là 1 lớp\n",
    "- dien là 1 đối tượng có tất cả thuộc tính (có biến ten, mon và hàm inten) của lớp giangvien\n",
    "- inten là 1 hàm trong lớp giangvien\n",
    "- dien.mon là 1 biến trong đối tượng dien\n",
    "- dien.inten() là cách để gọi hàm inten trong đối tượng dien\n",
    "\n",
    "\n",
    "<b> Hãy chạy thử đoạn lệnh ở ví dụ: </b>"
   ]
  },
  {
   "cell_type": "code",
   "execution_count": 1,
   "id": "40598ff8",
   "metadata": {},
   "outputs": [
    {
     "name": "stdout",
     "output_type": "stream",
     "text": [
      "Python căn bản\n",
      "Nguyễn Tâm Điền\n"
     ]
    }
   ],
   "source": [
    "class giangvien:\n",
    "    ten = \"Nguyễn Tâm Điền\"\n",
    "    mon = \"Python căn bản\"\n",
    "    def inten(self):\n",
    "        print(self.ten)        \n",
    "dien = giangvien()\n",
    "print(dien.mon)\n",
    "dien.inten()"
   ]
  },
  {
   "cell_type": "markdown",
   "id": "6c4daedf",
   "metadata": {},
   "source": [
    "<b> Hãy tạo 1 class hocvien với 1 biến và 1 def giúp in giá trị biến đó ra màn hình </b>"
   ]
  },
  {
   "cell_type": "code",
   "execution_count": 14,
   "id": "5358318d",
   "metadata": {},
   "outputs": [
    {
     "name": "stdout",
     "output_type": "stream",
     "text": [
      "Tên: NHK\n",
      "Điểm: 9\n",
      "Điểm: 14.4\n",
      "LHG\n"
     ]
    }
   ],
   "source": [
    "class hocvien:\n",
    "    ten = \"Nguyễn Huy Kiên\"\n",
    "    diem = 9\n",
    "    def inhocvien(self):\n",
    "        print(\"Tên:\",self.ten)\n",
    "        print(\"Điểm:\",self.diem)\n",
    "    def nhanheso(self,a):\n",
    "        print(\"Điểm:\",self.diem*a)\n",
    "    def sosanhdiem(self,hv2):\n",
    "        if self.diem > hv2.diem:\n",
    "            print(self.ten)\n",
    "        else:\n",
    "            print(hv2.ten)\n",
    "    def capnhatdiem(self,diem):\n",
    "        if 0 <= diem <= 10:\n",
    "            self.diem = diem\n",
    "            \n",
    "kien = hocvien()\n",
    "kien.ten = \"NHK\"\n",
    "kien.inhocvien()\n",
    "kien.nhanheso(1.6)\n",
    "giang = hocvien()\n",
    "giang.ten = \"LHG\"\n",
    "giang.diem = 10\n",
    "kien.sosanhdiem(giang)\n",
    "kien.capnhatdiem(9.5)"
   ]
  },
  {
   "cell_type": "markdown",
   "id": "b2481280",
   "metadata": {},
   "source": [
    "### Tham số self\n",
    "\n",
    "Tham số self là tham số được sử dụng khi khai báo các hàm trong lớp\n",
    "\n",
    "Tham số self miêu tả chính lớp ta đang xây dựng, giúp chúng ta sử dụng được những biến và hàm của lớp đó\n",
    "\n",
    "Ví dụ:\n",
    "\n",
    "`class giangvien:\n",
    "    ten = \"Nguyễn Tâm Điền\"\n",
    "    mon = \"Python căn bản\"\n",
    "    def doiten(self,ten):\n",
    "        self.ten = ten\n",
    "    def inten(self):\n",
    "        print(self.ten)        \n",
    "dien = giangvien()\n",
    "dien.doiten(\"NTD\")\n",
    "dien.inten()`\n",
    "\n",
    "Sau khi thực hiện đoạn code trên, giá trị của biến ten trong đối tượng dien đã bị thay đổi thành \"NTD\"\n",
    "\n",
    "<b> Hãy chạy thử đoạn lệnh ở ví dụ: </b>"
   ]
  },
  {
   "cell_type": "code",
   "execution_count": 2,
   "id": "fd2f5d7c",
   "metadata": {},
   "outputs": [
    {
     "name": "stdout",
     "output_type": "stream",
     "text": [
      "NTD\n"
     ]
    }
   ],
   "source": [
    "class giangvien:\n",
    "    ten = \"Nguyễn Tâm Điền\"\n",
    "    mon = \"Python căn bản\"\n",
    "    def doiten(self,ten):\n",
    "        self.ten = ten\n",
    "    def inten(self):\n",
    "        print(self.ten)        \n",
    "dien = giangvien()\n",
    "dien.doiten(\"NTD\")\n",
    "dien.inten()"
   ]
  },
  {
   "cell_type": "markdown",
   "id": "4dfd8d1d",
   "metadata": {},
   "source": [
    "<b> Hãy thêm 1 def vào class hocvien giúp thay đổi giá trị biến bất kỳ trong class </b>"
   ]
  },
  {
   "cell_type": "code",
   "execution_count": null,
   "id": "98d911c0",
   "metadata": {},
   "outputs": [],
   "source": []
  },
  {
   "cell_type": "markdown",
   "id": "b2909dd4",
   "metadata": {},
   "source": [
    "### Hàm \\_\\_init__\n",
    "\n",
    "Hàm \\_\\_init__ là hàm khởi tạo\n",
    "\n",
    "Ví dụ:\n",
    "\n",
    "`class giangvien:\n",
    "    def __init__(self,ten,mon):\n",
    "        self.ten = ten\n",
    "        self.mon = mon\n",
    "    def doiten(self,ten):\n",
    "        self.ten = ten\n",
    "    def inten(self):\n",
    "        print(self.ten)   \n",
    "dien = giangvien(\"Điền\",\"Python căn bản\")\n",
    "thang = giangvien(\"Thắng\",\"Python siêu cấp\")\n",
    "dien.inten()\n",
    "thang.inten()`\n",
    "\n",
    "<b> Hãy chạy thử đoạn lệnh ở ví dụ: </b>"
   ]
  },
  {
   "cell_type": "code",
   "execution_count": 17,
   "id": "f15266fb",
   "metadata": {},
   "outputs": [
    {
     "name": "stdout",
     "output_type": "stream",
     "text": [
      "NHK\n",
      "39\n"
     ]
    }
   ],
   "source": [
    "class giangvien:\n",
    "    def __init__(self,ten,tuoi):\n",
    "        self.ten = ten\n",
    "        self.tuoi = tuoi\n",
    "\n",
    "kien = giangvien(\"NHK\",27)\n",
    "giang = giangvien(\"LHG\",39)\n",
    "print(kien.ten)\n",
    "print(giang.tuoi)"
   ]
  },
  {
   "cell_type": "markdown",
   "id": "9064cc0a",
   "metadata": {},
   "source": [
    "<b> Hãy thêm 1 def \\_\\_init__ vào class hocvien để khởi tạo tên và tuổi của học viên </b>"
   ]
  },
  {
   "cell_type": "code",
   "execution_count": 5,
   "id": "3e6a0dae",
   "metadata": {},
   "outputs": [
    {
     "name": "stdout",
     "output_type": "stream",
     "text": [
      "NHK\n"
     ]
    }
   ],
   "source": [
    "class hocvien:\n",
    "    def __init__(self,ten,tuoi):\n",
    "        self.ten = ten\n",
    "        self.tuoi = tuoi\n",
    "    def sosanhtuoi(self,hv2):\n",
    "        if self.tuoi < hv2.tuoi:\n",
    "            print(self.ten)\n",
    "            \n",
    "kien = hocvien(\"NHK\",27)\n",
    "giang = hocvien(\"LHG\",39)\n",
    "kien.sosanhtuoi(giang)"
   ]
  },
  {
   "cell_type": "markdown",
   "id": "d137f2f5",
   "metadata": {},
   "source": [
    "### Bài tập"
   ]
  },
  {
   "cell_type": "markdown",
   "id": "d243726c",
   "metadata": {},
   "source": [
    "Hãy xây dựng 1 class hình tròn có các thuộc tính sau:\n",
    "\n",
    "- biến x và y chứa tọa độ tâm đường tròn\n",
    "- biến r chứa bán kính đường chọn\n",
    "- hàm draw: để vẽ đường tròn"
   ]
  },
  {
   "cell_type": "code",
   "execution_count": 1,
   "id": "4121525f",
   "metadata": {},
   "outputs": [],
   "source": [
    "import turtle\n",
    "t = turtle.Turtle()\n",
    "\n",
    "class duongtron:\n",
    "    def __init__(self,x,y,R):\n",
    "        self.x = x\n",
    "        self.y = y\n",
    "        self.R = R\n",
    "    def veduongtron(self):\n",
    "        t.pu()\n",
    "        t.goto(self.x,self.y - self.R)\n",
    "        t.pd()\n",
    "        t.circle(self.R)\n",
    "        \n",
    "kien = duongtron(50,60,70)\n",
    "kien.veduongtron()\n",
    "        "
   ]
  },
  {
   "cell_type": "markdown",
   "id": "9017050f",
   "metadata": {},
   "source": [
    "Tạo một lớp phân số có các thuộc tính:\n",
    "\n",
    "- biến tử số và mẫu số\n",
    "- hàm cộng: để cộng với một đối tượng khác có lớp phân số rồi trả về dối tượng có phân số mới\n",
    "- hàm trừ: để trừ với một đối tượng khác có lớp phân số rồi trả về dối tượng có phân số mới\n",
    "- hàm nhân: để nhân với một đối tượng khác có lớp phân số rồi trả về dối tượng có phân số mới\n",
    "- hàm chia: để chia với một đối tượng khác có lớp phân số rồi trả về dối tượng có phân số mới\n",
    "- hàm tối giản: để tối giản phân số rồi trả về dối tượng có phân số mới"
   ]
  },
  {
   "cell_type": "code",
   "execution_count": 14,
   "id": "2ae72d93",
   "metadata": {},
   "outputs": [
    {
     "ename": "TypeError",
     "evalue": "phanso.toigian() takes 1 positional argument but 2 were given",
     "output_type": "error",
     "traceback": [
      "\u001b[1;31m---------------------------------------------------------------------------\u001b[0m",
      "\u001b[1;31mTypeError\u001b[0m                                 Traceback (most recent call last)",
      "Input \u001b[1;32mIn [14]\u001b[0m, in \u001b[0;36m<cell line: 36>\u001b[1;34m()\u001b[0m\n\u001b[0;32m     33\u001b[0m ps2 \u001b[38;5;241m=\u001b[39m phanso(\u001b[38;5;241m5\u001b[39m,\u001b[38;5;241m6\u001b[39m)\n\u001b[0;32m     34\u001b[0m ps3 \u001b[38;5;241m=\u001b[39m ps1\u001b[38;5;241m.\u001b[39mcong(ps2)\n\u001b[1;32m---> 36\u001b[0m \u001b[43mps1\u001b[49m\u001b[38;5;241;43m.\u001b[39;49m\u001b[43mtoigian\u001b[49m\u001b[43m(\u001b[49m\u001b[43mps1\u001b[49m\u001b[43m)\u001b[49m\n\u001b[0;32m     37\u001b[0m \u001b[38;5;28mprint\u001b[39m(ps3\u001b[38;5;241m.\u001b[39mtuso,ps3\u001b[38;5;241m.\u001b[39mmauso)\n",
      "\u001b[1;31mTypeError\u001b[0m: phanso.toigian() takes 1 positional argument but 2 were given"
     ]
    }
   ],
   "source": [
    "class phanso:\n",
    "    def __init__(self,tuso,mauso):\n",
    "        self.tuso = tuso\n",
    "        self.mauso = mauso\n",
    "    def cong(self,psA):\n",
    "        tuso_moi = self.tuso*psA.mauso + self.mauso*psA.tuso\n",
    "        mauso_moi = self.mauso*psA.mauso\n",
    "        return phanso(tuso_moi,mauso_moi)\n",
    "    def tru(self,psA):\n",
    "        tuso_moi = self.tuso*psA.mauso - self.mauso*psA.tuso\n",
    "        mauso_moi = self.mauso*psA.mauso\n",
    "        return phanso(tuso_moi,mauso_moi)\n",
    "    def nhan(self,psA):\n",
    "        tuso_moi = self.tuso*psA.tuso\n",
    "        mauso_moi = self.mauso*psA.mauso\n",
    "        return phanso(tuso_moi,mauso_moi)\n",
    "    def chia(self,psA):\n",
    "        tuso_moi = self.tuso*psA.mauso\n",
    "        mauso_moi = self.mauso*psA.tuso\n",
    "        return phanso(tuso_moi,mauso_moi)\n",
    "    def toigian(self):\n",
    "        a, b = self.tuso, self.mauso\n",
    "        while a != b:\n",
    "            if a > b:\n",
    "                a -= b\n",
    "            else:\n",
    "                b -= a\n",
    "        tuso_moi = self.tuso // a\n",
    "        mauso_moi = self.mauso // b\n",
    "        return phanso(tuso_moi,mauso_moi)\n",
    "    \n",
    "ps1 = phanso(6,9)\n",
    "ps2 = phanso(5,6)\n",
    "ps3 = ps1.cong(ps2)\n",
    "\n",
    "ps1.toigian(ps1)\n",
    "print(ps3.tuso,ps3.mauso)"
   ]
  },
  {
   "cell_type": "markdown",
   "id": "39a8cb80",
   "metadata": {},
   "source": [
    "Viết class NhanVien gồm các thuộc tính:\n",
    "\n",
    "<b> Các biến </b>\n",
    "\n",
    "- Tên\n",
    "- Tuổi\n",
    "- Địa chỉ\n",
    "- Tiền lương\n",
    "- Tổng số giờ làm\n",
    "\n",
    "<b> Các hàm </b>\n",
    "\n",
    "- nhap : Nhập các thông tin cho nhân viên từ bàn phím\n",
    "- in : In ra tất cả các thông tin của nhân viên\n",
    "- thuong: Tính toán và trả về số tiền thưởng của nhân viên theo công thức sau:\n",
    "\n",
    "    Nếu tổng số giờ làm của nhân viên >=200 thì thưởng = lương * 20%\n",
    "    \n",
    "    Nếu tổng số giờ làm của nhân viên <200 và >=100 thì thưởng = lương * 10%\n",
    "    \n",
    "    Nếu tổng số giờ làm của nhân viên <100 thì thưởng = 0"
   ]
  },
  {
   "cell_type": "code",
   "execution_count": 12,
   "id": "26d12a44",
   "metadata": {},
   "outputs": [
    {
     "name": "stdout",
     "output_type": "stream",
     "text": [
      "Tên: Nguyễn Văn A\n",
      "Tuổi: 20\n",
      "Địa chỉ: Hà Đông\n",
      "Tiền lương: 1000000\n",
      "Giờ công: 50\n"
     ]
    }
   ],
   "source": [
    "class Nhanvien:\n",
    "    def __init__(self,ten,tuoi,diachi,tienluong,giolam):\n",
    "        self.data = {}\n",
    "        self.data[\"Tên\"] = ten\n",
    "        self.data[\"Tuổi\"] = tuoi\n",
    "        self.data[\"Địa chỉ\"] = diachi\n",
    "        self.data[\"Tiền lương\"] = tienluong\n",
    "        self.data[\"Giờ công\"] = giolam\n",
    "    def info(self):\n",
    "        for key in self.data:\n",
    "            print(key,\": \",self.data[key],sep = \"\")\n",
    "    def thuong(self):\n",
    "        sogiolam = self.data[\"Giờ công\"]\n",
    "        luong = self.data[\"Tiền lương\"]\n",
    "        if sogiolam >= 200\n",
    "            \n",
    "nvA = Nhanvien(\"Nguyễn Văn A\",20,\"Hà Đông\",1000000,50)\n",
    "nvA.info()"
   ]
  },
  {
   "cell_type": "code",
   "execution_count": null,
   "id": "8d781b9c",
   "metadata": {},
   "outputs": [],
   "source": [
    "import turtle as t\n",
    "import random\n",
    "\n",
    "screen = t.Screen()\n",
    "screen.setup(height=500, width=600)\n",
    "guess = screen.textinput(prompt=\"Dự đoán con rùa nào chiến thắng?\", title=\"Nhập vào màu rùa (đỏ, nâu, xanh dương, xanh lá cây, cam, hồng)\")\n",
    "colors = [\"red\", \"brown\", \"blue\", \"green\", \"orange\", \"pink\"]\n",
    "y_position = [0, -30, 30, -60, 60, 90]\n",
    "turtle_speed = [10, 15, 20, 25, 30, 5]\n",
    "all_turtles = []\n",
    "run = True\n",
    "\n",
    "for turtle in range(0, 6):\n",
    "    turtles = t.Turtle(shape=\"turtle\")\n",
    "    turtles.penup()\n",
    "    turtles.goto(x=-250, y=y_position[turtle])\n",
    "    turtles.color(colors[turtle])\n",
    "    all_turtles.append(turtles)\n",
    "\n",
    "def random_walk(turtles):\n",
    "    global run\n",
    "    for turtle in turtles:\n",
    "        turtle.forward(random.choice(turtle_speed))\n",
    "        if turtle.xcor() > 250:\n",
    "            run = False\n",
    "            \n",
    "while run:\n",
    "    random_walk(all_turtles)\n",
    "\n",
    "screen.exitonclick()"
   ]
  }
 ],
 "metadata": {
  "kernelspec": {
   "display_name": "Python 3 (ipykernel)",
   "language": "python",
   "name": "python3"
  },
  "language_info": {
   "codemirror_mode": {
    "name": "ipython",
    "version": 3
   },
   "file_extension": ".py",
   "mimetype": "text/x-python",
   "name": "python",
   "nbconvert_exporter": "python",
   "pygments_lexer": "ipython3",
   "version": "3.10.4"
  }
 },
 "nbformat": 4,
 "nbformat_minor": 5
}
