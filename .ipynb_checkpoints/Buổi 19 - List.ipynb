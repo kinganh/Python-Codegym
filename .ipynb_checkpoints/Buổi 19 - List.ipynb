{
 "cells": [
  {
   "cell_type": "markdown",
   "id": "fad0ff18",
   "metadata": {},
   "source": [
    "# List\n",
    "\n",
    "### Đặt vấn đề\n",
    "\n",
    "Nếu như ta có một lượng dữ liệu không biết trước được số lượng cần lưu vào biến, ta không thể lưu bằng cách thông thường\n",
    "\n",
    "Lấy ví dụ:\n",
    "\n",
    "Nhập vào số n, sau đó nhập tiếp n số và lưu trữ n số đó vào biến\n",
    "\n",
    "Vậy ta hoàn toàn không biết được người dùng sẽ nhập bao nhiêu số để lưu trữ\n",
    "\n",
    "Lúc này ta cần đến List\n",
    "\n",
    "List giúp chúng ta lưu nhiều giá trị cùng 1 lúc, nhưng chỉ cần đặt tên cho nó lần\n",
    "\n",
    "##### Tài liệu tham khảo: https://www.w3schools.com/python/python_lists.asp"
   ]
  },
  {
   "cell_type": "markdown",
   "id": "4ca9e91e",
   "metadata": {},
   "source": [
    "### Cách thức khai báo List\n",
    "\n",
    "Cú pháp:\n",
    "\n",
    "`<tên list> = []`\n",
    "\n",
    "##### List được khai báo bằng 2 dấu ngoặc vuông\n",
    "\n",
    "<b> Ví dụ 1: </b>\n",
    "\n",
    "`a = []`\n",
    "\n",
    "a là một list, không có bất kỳ phần tử nào trong đó\n",
    "\n",
    "<b> Ví dụ 2: </b>\n",
    "\n",
    "`b = [1,2,3]`\n",
    "\n",
    "##### Các phần tử trong list được khai báo, mỗi phần tử cách nhau một dấu phẩy\n",
    "\n",
    "b là một list có 3 phần tử\n",
    "\n",
    "<b> Ví dụ 3: </b>\n",
    "\n",
    "`c = [\"abc\",5,1.5]`\n",
    "\n",
    "##### Các phần tử trong list có thể có những kiểu dữ liệu khác nhau\n",
    "\n",
    "c là một list có 3 phần tử, phần tử thứ nhất có kiểu dữ liệu là chuỗi, phần tử thứ hai có kiểu dữ liệu là số nguyên và phần tử cuối cùng có kiểu dữ liệu là số thực\n",
    "\n",
    "<b> Hãy khai báo một list xong rồi in list đó lên màn hình </b>"
   ]
  },
  {
   "cell_type": "code",
   "execution_count": null,
   "id": "c2f37351",
   "metadata": {},
   "outputs": [],
   "source": []
  },
  {
   "cell_type": "markdown",
   "id": "be8e19b0",
   "metadata": {},
   "source": [
    "### Truy xuất phần tử trong List\n",
    "\n",
    "Giống như chuỗi, các phần tử trong list được truy xuất theo cú pháp:\n",
    "\n",
    "`<tên list>[<vị trí của phần tử>]`\n",
    "\n",
    "<b> Ví dụ 1: </b>\n",
    "\n",
    "`a = [1,4,6]\n",
    "print(a[1])`\n",
    "\n",
    "Màn hình sẽ in ra 4\n",
    "\n",
    "<b> Hãy khai báo một list có một chuỗi và một số rồi in chuỗi trong list đó ra màn hình </b>"
   ]
  },
  {
   "cell_type": "code",
   "execution_count": 4,
   "id": "bb3f9141",
   "metadata": {},
   "outputs": [
    {
     "name": "stdout",
     "output_type": "stream",
     "text": [
      "NHK\n",
      "K\n"
     ]
    }
   ],
   "source": [
    "a = [\"LHG\",21,\"NHK\",26.1]\n",
    "print(a[2])\n",
    "print(a[2][2])"
   ]
  },
  {
   "cell_type": "markdown",
   "id": "ad61e236",
   "metadata": {},
   "source": [
    "### Thêm phần tử vào List\n",
    "\n",
    "Cú pháp:\n",
    "\n",
    "`<tên list>.append()`\n",
    "\n",
    "<b>Ví dụ:</b>\n",
    "\n",
    "`a = []\n",
    "a.append(5)`\n",
    "\n",
    "a sẽ có 1 phần tử là 5\n",
    "\n",
    "<b> Hãy khai báo một list rỗng, rồi thêm 2 phần tử bất kỳ vào list đó, sau đó in list đó ra</b>"
   ]
  },
  {
   "cell_type": "code",
   "execution_count": 6,
   "id": "5823ddca",
   "metadata": {},
   "outputs": [
    {
     "name": "stdout",
     "output_type": "stream",
     "text": [
      "['NHK', 261]\n"
     ]
    }
   ],
   "source": [
    "a = []\n",
    "a.append(\"NHK\")\n",
    "a.append(261)\n",
    "print(a)"
   ]
  },
  {
   "cell_type": "markdown",
   "id": "8c92d3d3",
   "metadata": {},
   "source": [
    "### Thay đổi giá trị của List\n",
    "\n",
    "Cú pháp:\n",
    "\n",
    "`<tên list>[<vị trí của phần tử>] = <giá trị mới>`\n",
    "\n",
    "<b> Hãy khai báo một list bất kỳ, rồi thay đổi 1 phần tử trong nó, sau đó in list đó ra</b>"
   ]
  },
  {
   "cell_type": "code",
   "execution_count": 7,
   "id": "13c61075",
   "metadata": {},
   "outputs": [
    {
     "name": "stdout",
     "output_type": "stream",
     "text": [
      "['LHG', 'LTHG', 'NHK', 26.1]\n"
     ]
    }
   ],
   "source": [
    "a = [\"LHG\",21,\"NHK\",26.1]\n",
    "a[1] = \"LTHG\"\n",
    "print(a)"
   ]
  },
  {
   "cell_type": "markdown",
   "id": "ce14eefe",
   "metadata": {},
   "source": [
    "### Xóa 1 phần tử trong list\n",
    "\n",
    "#### Lệnh remove()\n",
    "\n",
    "Cú pháp:\n",
    "\n",
    "`<tên list>.remove(<giá trị cần xóa>)`\n",
    "\n",
    "<b>Ví dụ:</b>\n",
    "\n",
    "`a = [\"hi\",3,\"hello\",4]\n",
    "a.remove(\"hi\")`\n",
    "\n",
    "Sau khi thực hiện lệnh trên, a chỉ còn [3,\"hello\",4]\n",
    "\n",
    "<b> Hãy khai báo một list bất kỳ, rồi xóa 1 phần tử trong nó bằng lệnh remove(), sau đó in list đó ra</b>"
   ]
  },
  {
   "cell_type": "code",
   "execution_count": 10,
   "id": "f79402ad",
   "metadata": {},
   "outputs": [
    {
     "name": "stdout",
     "output_type": "stream",
     "text": [
      "['LHG', 21, 'NHK']\n"
     ]
    }
   ],
   "source": [
    "a = [\"LHG\",21,\"NHK\",26.1]\n",
    "a.remove(26.1)\n",
    "print(a)"
   ]
  },
  {
   "cell_type": "code",
   "execution_count": 11,
   "id": "7784a376",
   "metadata": {},
   "outputs": [
    {
     "name": "stdout",
     "output_type": "stream",
     "text": [
      "['LHG', 'NHK', 21]\n"
     ]
    }
   ],
   "source": [
    "a = [\"LHG\",21,\"NHK\",21]\n",
    "a.remove(21)\n",
    "print(a)"
   ]
  },
  {
   "cell_type": "markdown",
   "id": "ec66c5cc",
   "metadata": {},
   "source": [
    "#### Lệnh pop()\n",
    "\n",
    "Cú pháp:\n",
    "\n",
    "`<tên list>.pop(<vị trí cần xóa>)`\n",
    "\n",
    "<b>Ví dụ:</b>\n",
    "\n",
    "`a = [\"hi\",3,\"hello\",4]\n",
    "a.pop(3)`\n",
    "\n",
    "Sau khi thực hiện lệnh trên, a chỉ còn [\"hi\",3,\"hello\"]\n",
    "\n",
    "<b> Hãy khai báo một list bất kỳ, rồi xóa 1 phần tử trong nó bằng lệnh pop(), sau đó in list đó ra</b>"
   ]
  },
  {
   "cell_type": "code",
   "execution_count": 12,
   "id": "eeaa0766",
   "metadata": {},
   "outputs": [
    {
     "name": "stdout",
     "output_type": "stream",
     "text": [
      "['NHK', 26.1]\n"
     ]
    }
   ],
   "source": [
    "a = [\"LHG\",21,\"NHK\",26.1]\n",
    "a.pop(0)\n",
    "a.pop(0)\n",
    "print(a)"
   ]
  },
  {
   "cell_type": "markdown",
   "id": "96daac1c",
   "metadata": {},
   "source": [
    "### Sao chép list\n",
    "\n",
    "###### Lưu ý: Nếu ta có list a, ta thực hiện lệnh b = a, list b sẽ bị ảnh hưởng khi list a có sự thay đổi\n",
    "\n",
    "<b> Ví dụ: </b>\n",
    "\n",
    "`a = [5,7,1]\n",
    "b = a\n",
    "a.remove(5)`\n",
    "\n",
    "Khi thực hiện 3 lệnh trên, b sẽ bằng [7,1], dù cho ta thực hiện lệnh `b = a` trước `a.remove(5)`\n",
    "\n",
    "<b> Kiểm chứng sự ảnh hưởng khi gán list </b>"
   ]
  },
  {
   "cell_type": "code",
   "execution_count": null,
   "id": "1dbdf54b",
   "metadata": {},
   "outputs": [],
   "source": []
  },
  {
   "cell_type": "markdown",
   "id": "c9c51aad",
   "metadata": {},
   "source": [
    "### Lệnh copy()\n",
    "\n",
    "Cú pháp:\n",
    "\n",
    "`<tên list>.copy()`\n",
    "\n",
    "##### Dùng lệnh copy sẽ khắc phục được vấn đề gán list a cho b\n",
    "\n",
    "<b> Ví dụ: </b>\n",
    "\n",
    "`a = [5,7,1]\n",
    "b = a.copy()\n",
    "a.remove(5)`\n",
    "\n",
    "Khi thực hiện 3 lệnh trên, b vẫn sẽ bằng [5,7,1]\n",
    "\n",
    "Lúc này, b sẽ là một list mới độc lập hoàn toàn với a\n",
    "\n",
    "<b> Khai báo list a, dùng lệnh copy cho list b, rồi thêm phần tử vào list a, sau đó in cả 2 list lên màn hình</b>"
   ]
  },
  {
   "cell_type": "code",
   "execution_count": null,
   "id": "46759662",
   "metadata": {},
   "outputs": [],
   "source": []
  },
  {
   "cell_type": "markdown",
   "id": "d8f470e0",
   "metadata": {},
   "source": [
    "### Lệnh len()\n",
    "\n",
    "Tương tự như chuỗi, ta có thể dùng lệnh len cho list để trả về số lượng của list\n",
    "\n",
    "<b> Ví dụ:</b>\n",
    "\n",
    "`a = [3,\"Hello\",5,\"hi\"]\n",
    "b = len(a)`\n",
    "\n",
    "Giá trị của b là 4\n",
    "\n",
    "<b> Khai báo list a, in lên độ dài của list a </b>"
   ]
  },
  {
   "cell_type": "code",
   "execution_count": 3,
   "id": "dfbcf0db",
   "metadata": {},
   "outputs": [
    {
     "name": "stdout",
     "output_type": "stream",
     "text": [
      "0\n",
      "1\n",
      "2\n",
      "3\n",
      "4\n",
      "5\n"
     ]
    }
   ],
   "source": [
    "list_a = [\"NHK\",\"LHG\",\"NHK\",\"NHKLHG\",\"ABC\",\"LHG\"]\n",
    "\n",
    "for i in range(len(list_a)):\n",
    "    print(i)"
   ]
  },
  {
   "cell_type": "markdown",
   "id": "8ac29b78",
   "metadata": {},
   "source": [
    "### Duyệt list bằng lệnh for\n",
    "\n",
    "<b> Duyệt list với vị trí </b>"
   ]
  },
  {
   "cell_type": "code",
   "execution_count": 17,
   "id": "1be33622",
   "metadata": {},
   "outputs": [
    {
     "name": "stdout",
     "output_type": "stream",
     "text": [
      "LHG\n",
      "21\n",
      "NHK\n",
      "26.1\n"
     ]
    }
   ],
   "source": [
    "a = [\"LHG\",21,\"NHK\",26.1]\n",
    "for i in range(len(a)):\n",
    "    print(a[i])"
   ]
  },
  {
   "cell_type": "code",
   "execution_count": 18,
   "id": "227f1c96",
   "metadata": {},
   "outputs": [
    {
     "name": "stdout",
     "output_type": "stream",
     "text": [
      "[0, 0, 0, 0]\n"
     ]
    }
   ],
   "source": [
    "a = [\"LHG\",21,\"NHK\",26.1]\n",
    "for i in range(len(a)):\n",
    "    a[i] = 0\n",
    "print(a)"
   ]
  },
  {
   "cell_type": "code",
   "execution_count": 26,
   "id": "383755db",
   "metadata": {},
   "outputs": [
    {
     "name": "stdout",
     "output_type": "stream",
     "text": [
      "[0, 1, 2, 3]\n"
     ]
    }
   ],
   "source": [
    "a = [\"LHG\",21,\"NHK\",26.1]\n",
    "for i in range(len(a)):\n",
    "    a[i] = i\n",
    "print(a)"
   ]
  },
  {
   "cell_type": "markdown",
   "id": "53b6e6eb",
   "metadata": {},
   "source": [
    "<b> Duyệt list với giá trị từng phần tử</b>"
   ]
  },
  {
   "cell_type": "code",
   "execution_count": 2,
   "id": "cdf22aa3",
   "metadata": {},
   "outputs": [
    {
     "name": "stdout",
     "output_type": "stream",
     "text": [
      "['LHG', 21, 'NHK', 26.1]\n"
     ]
    }
   ],
   "source": [
    "a = [\"LHG\",21,\"NHK\",26.1]\n",
    "for i in a:\n",
    "    i = 0\n",
    "print(a)"
   ]
  },
  {
   "cell_type": "code",
   "execution_count": 7,
   "id": "ea81b2e1",
   "metadata": {},
   "outputs": [
    {
     "name": "stdout",
     "output_type": "stream",
     "text": [
      "53\n"
     ]
    }
   ],
   "source": [
    "a = [53,21,46,26.1]\n",
    "b = max(a)\n",
    "print(b)"
   ]
  },
  {
   "cell_type": "markdown",
   "id": "3fcda853",
   "metadata": {},
   "source": [
    "### Bài tập"
   ]
  },
  {
   "cell_type": "markdown",
   "id": "72d9a5fa",
   "metadata": {},
   "source": [
    "Nhập vào một dãy số nguyên dương (ngưng nhập nếu người dùng nhập -1)\n",
    "\n",
    "Sau khi nhập hãy:\n",
    "- In ra số lớn nhất trong dãy\n",
    "- In ra số bé nhất trong dãy\n",
    "- In ra dãy số nguyên tố tìm được trong dãy vừa nhập"
   ]
  },
  {
   "cell_type": "code",
   "execution_count": 4,
   "id": "38805cc0",
   "metadata": {},
   "outputs": [
    {
     "name": "stdout",
     "output_type": "stream",
     "text": [
      "Nhập số: 5\n",
      "Nhập số: 6\n",
      "Nhập số: 7\n",
      "Nhập số: 84\n",
      "Nhập số: 26\n",
      "Nhập số: 483\n",
      "Nhập số: 17\n",
      "Nhập số: -1\n",
      "[5, 6, 7, 84, 26, 483, 17]\n",
      "483\n",
      "5\n",
      "5\n",
      "17\n"
     ]
    }
   ],
   "source": [
    "a = []\n",
    "b = int(input(\"Nhập số: \"))\n",
    "while b >= 0:\n",
    "    a.append(b)\n",
    "    b = int(input(\"Nhập số: \"))\n",
    "print(a)\n",
    "\n",
    "print(max(a))\n",
    "print(min(a))\n",
    "\n",
    "k = 1\n",
    "dem = 2\n",
    "for i in a:\n",
    "    for j in (2,i):\n",
    "        if (i % j) == 0:\n",
    "            dem += 1\n",
    "        if dem == 2:\n",
    "            print(i)\n",
    "print(i)"
   ]
  },
  {
   "cell_type": "code",
   "execution_count": 15,
   "id": "c392e353",
   "metadata": {},
   "outputs": [
    {
     "name": "stdout",
     "output_type": "stream",
     "text": [
      "Nhập số: 13\n",
      "Nhập số: 17\n",
      "Nhập số: 26\n",
      "Nhập số: 261\n",
      "Nhập số: 56\n",
      "Nhập số: -5\n",
      "[13, 17, 26, 261, 56]\n",
      "MAX:  261\n",
      "MIN:  13\n",
      "[13, 17]\n"
     ]
    }
   ],
   "source": [
    "a = []\n",
    "b = int(input(\"Nhập số: \"))\n",
    "while b >= 0:\n",
    "    a.append(b)\n",
    "    b = int(input(\"Nhập số: \"))\n",
    "print(a)\n",
    "\n",
    "m = a[0]\n",
    "for i in range(1,len(a)):\n",
    "    if m < a[i]:\n",
    "        m = a[i]\n",
    "print(\"MAX: \",m)\n",
    "\n",
    "m1 = a[0]\n",
    "for i in range(1,len(a)):\n",
    "    if m1 > a[i]:\n",
    "        m1 = a[i]\n",
    "print(\"MIN: \",m1)\n",
    "\n",
    "def songuyento(x):\n",
    "    if x < 2:\n",
    "        return False\n",
    "    for i in range(2,x):\n",
    "        if x % i == 0:\n",
    "            return False\n",
    "    return True\n",
    "a_snt = []\n",
    "for i in a:\n",
    "    if songuyento(i):\n",
    "        a_snt.append(i)\n",
    "print(a_snt)"
   ]
  },
  {
   "cell_type": "markdown",
   "id": "f493bb3e",
   "metadata": {},
   "source": [
    "Viết hàm với dữ liệu đầu vào bao gồm 3 tham số: list, a, b. Hàm này có công dụng tìm số lớn nhất trong đoạn từ vị trí a đến vị trí b trong list."
   ]
  },
  {
   "cell_type": "code",
   "execution_count": 21,
   "id": "a730c2f8",
   "metadata": {},
   "outputs": [
    {
     "name": "stdout",
     "output_type": "stream",
     "text": [
      "Nhập a: 3\n",
      "Nhập b: 6\n",
      "MAX 8421\n"
     ]
    }
   ],
   "source": [
    "L = [26,1,267,36,8421,1563,1566,3,436,3165]\n",
    "a = int(input(\"Nhập a: \"))\n",
    "b = int(input(\"Nhập b: \"))\n",
    "\n",
    "def SLN(L,a,b):\n",
    "    m = L[a]\n",
    "    for i in range(a,b+1):\n",
    "        if m < L[a+1]:\n",
    "            m = L[a+1]\n",
    "    return m\n",
    "\n",
    "print(\"MAX\",SLN(L,a,b))"
   ]
  },
  {
   "cell_type": "markdown",
   "id": "87acccb8",
   "metadata": {},
   "source": [
    "Viết hàm có tham số đầu vào là list, giá trị trả về là số lượng số nguyên tố bé hơn 100 trong list"
   ]
  },
  {
   "cell_type": "code",
   "execution_count": 3,
   "id": "c605991d",
   "metadata": {},
   "outputs": [
    {
     "name": "stdout",
     "output_type": "stream",
     "text": [
      "6\n"
     ]
    }
   ],
   "source": [
    "L = [13,65,345,63,17,7,36,26,21,9,31,69,267,264,13,6546,37]\n",
    "\n",
    "def songuyento(x):\n",
    "    if x < 2:\n",
    "        return False\n",
    "    for i in range(2,x):\n",
    "        if x % i == 0:\n",
    "            return False\n",
    "    return True\n",
    "L_snt = []\n",
    "for i in L:\n",
    "    if songuyento(i) and i < 100:\n",
    "        L_snt.append(i)\n",
    "print(len(L_snt))"
   ]
  },
  {
   "cell_type": "markdown",
   "id": "13840ec8",
   "metadata": {},
   "source": [
    "Viết hàm tìm giá trị dương đầu tiên của list, nếu không có giá trị dương trả về -1"
   ]
  },
  {
   "cell_type": "code",
   "execution_count": 15,
   "id": "8873fa0a",
   "metadata": {},
   "outputs": [
    {
     "name": "stdout",
     "output_type": "stream",
     "text": [
      "43\n"
     ]
    }
   ],
   "source": [
    "L = [-6,-1465,-436,-6,-5,43,-4,-43,-4,-43]\n",
    "L1 = []\n",
    "\n",
    "def soduong(L):\n",
    "    for i in L:\n",
    "        if i > 0:\n",
    "            print(i)\n",
    "            break\n",
    "        if i < 0:\n",
    "            L1.append(i)\n",
    "    if L1 == L:\n",
    "        return -1\n",
    "    \n",
    "soduong(L)"
   ]
  },
  {
   "cell_type": "markdown",
   "id": "0f71c71e",
   "metadata": {},
   "source": [
    "Viết hàm có 2 giá trị đầu vào là list và x. Tìm giá trị trong list xa x nhất"
   ]
  },
  {
   "cell_type": "code",
   "execution_count": 13,
   "id": "03ef7d4c",
   "metadata": {},
   "outputs": [
    {
     "name": "stdout",
     "output_type": "stream",
     "text": [
      "Nhập a: -200\n",
      "69\n"
     ]
    }
   ],
   "source": [
    "L = [13,65,-345,63,17,7,36,26,21,9,31,69]\n",
    "L1 = []\n",
    "a = float(input(\"Nhập a: \"))\n",
    "\n",
    "def faw(L,a):\n",
    "    for i in L:\n",
    "        i = abs(i - a)\n",
    "        L1.append(i)\n",
    "    m = L1[0]\n",
    "    for j in range(1,len(L1)):\n",
    "        if m < L1[j]:\n",
    "            m = L1[j]\n",
    "    b = L1.index(m)\n",
    "    print(L[b])\n",
    "    \n",
    "faw(L,a)"
   ]
  },
  {
   "cell_type": "markdown",
   "id": "3b634d0f",
   "metadata": {},
   "source": [
    "Một người dùng số tiền là U đô-la và V Euro để mua một loại nguyên liệu sản xuất. \n",
    "\n",
    "Có N công ty nước ngoài bán nguyên liệu trên được đánh số từ 1 đến N. Công ty thứ i có giá bán Ai đô la/1 kg nguyên liệu và Bi Euro/1 kg nguyên liệu. \n",
    "\n",
    "Tuy nhiên, tại mỗi công ty chỉ bán nguyên liệu cho một khách hàng hoặc theo đô-la, hoặc theo Euro. \n",
    "\n",
    "Hãy giúp người đó tìm cách chọn ra 2 công ty để mua hàng sao cho số lượng nguyên liệu sản xuất có thể mua được là nhiều nhất.\n",
    "\n",
    "Nhập vào: Từ bàn phím 3 số theo thứ tự : N U V (1 ≤ N ≤ 20; 1 ≤ U, V ≤ 1000) và N cặp số nguyên Ai, Bi (1 < Ai, Bi < 1000) (nhập lần lượng A1, B1 rồi A2, B2)\n",
    "\n",
    "In ra : Số lượng nguyên liệu S(kg) người đó mua được với 2 chữ số thập phân."
   ]
  },
  {
   "cell_type": "code",
   "execution_count": null,
   "id": "677abefe",
   "metadata": {},
   "outputs": [],
   "source": [
    "U = 10\n",
    "V = 5\n",
    "A = [10,5,3]\n",
    "B = [7,2,3]\n",
    "\n",
    "def timctyrenhat(L):\n",
    "    vt = 0\n",
    "    for i in range(len(L)):\n",
    "        if L[vt] > L[i]:\n",
    "            vt = i\n",
    "    return vt\n",
    "\n",
    "vtA = timctyrenhat(A)\n",
    "vtB = timctyrenhat(B)\n",
    "\n",
    "if vtA != vtB:\n",
    "    k1 = U/A[vtA] + V/A[vtB]\n",
    "else:\n",
    "    giabanrenhatA = A[vtA]\n",
    "    giabanrenhatA = B[vtB]\n",
    "    A.pop(vtA)\n",
    "    B.pop(vtB)\n",
    "    vtA2 = timctyrenhat(A)\n",
    "    vtB2 = timctyrenhat(B)\n",
    "    \n",
    "    th1 = U/giabanrenhatA + V/"
   ]
  },
  {
   "cell_type": "code",
   "execution_count": null,
   "id": "90401e4e",
   "metadata": {},
   "outputs": [],
   "source": []
  }
 ],
 "metadata": {
  "kernelspec": {
   "display_name": "Python 3 (ipykernel)",
   "language": "python",
   "name": "python3"
  },
  "language_info": {
   "codemirror_mode": {
    "name": "ipython",
    "version": 3
   },
   "file_extension": ".py",
   "mimetype": "text/x-python",
   "name": "python",
   "nbconvert_exporter": "python",
   "pygments_lexer": "ipython3",
   "version": "3.10.4"
  }
 },
 "nbformat": 4,
 "nbformat_minor": 5
}
