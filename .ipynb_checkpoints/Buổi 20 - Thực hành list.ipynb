{
 "cells": [
  {
   "cell_type": "markdown",
   "id": "011431b9",
   "metadata": {},
   "source": [
    "# Thực hành List\n",
    "\n",
    "##### Chú ý: list một dãy số người ta còn gọi là một mảng\n",
    "\n",
    "### Bài 1"
   ]
  },
  {
   "cell_type": "markdown",
   "id": "61a90628",
   "metadata": {},
   "source": [
    "Viết hàm với đầu vào là một mảng, hãy tính và trả về giá trị trung bình của mảng"
   ]
  },
  {
   "cell_type": "code",
   "execution_count": 4,
   "id": "bcc197d5",
   "metadata": {},
   "outputs": [
    {
     "data": {
      "text/plain": [
       "126.33333333333333"
      ]
     },
     "execution_count": 4,
     "metadata": {},
     "output_type": "execute_result"
    }
   ],
   "source": [
    "a = [5,9,361,4,348,31]\n",
    "\n",
    "\n",
    "def TBC(L):\n",
    "    tong = 0\n",
    "    for i in L:\n",
    "        tong += i\n",
    "    tb = tong/len(L)\n",
    "    return tb\n",
    "\n",
    "TBC(a)"
   ]
  },
  {
   "cell_type": "markdown",
   "id": "30d26c1b",
   "metadata": {},
   "source": [
    "### Bài 2"
   ]
  },
  {
   "cell_type": "markdown",
   "id": "674ef26c",
   "metadata": {},
   "source": [
    "Viết hàm với đầu vào là một mảng, hãy tìm và trả về giá trị âm lớn nhất trong mảng"
   ]
  },
  {
   "cell_type": "code",
   "execution_count": 8,
   "id": "1a9cb505",
   "metadata": {},
   "outputs": [
    {
     "data": {
      "text/plain": [
       "-361"
      ]
     },
     "execution_count": 8,
     "metadata": {},
     "output_type": "execute_result"
    }
   ],
   "source": [
    "a = [5,9,-361,4,-348,31]\n",
    "b = []\n",
    "\n",
    "def nhk(a):\n",
    "    for i in a:\n",
    "        i = 0 - i\n",
    "        b.append(i)\n",
    "    m = b[0]\n",
    "    for j in range(1,len(b)):\n",
    "        if m < b[j]:\n",
    "            m = b[j]\n",
    "    c = b.index(m)\n",
    "    return a[c]\n",
    "\n",
    "nhk(a)"
   ]
  },
  {
   "cell_type": "markdown",
   "id": "95cfaa74",
   "metadata": {},
   "source": [
    "### Bài 3"
   ]
  },
  {
   "cell_type": "markdown",
   "id": "5361a4b8",
   "metadata": {},
   "source": [
    "Viết hàm với giá trị đầu vào là một mảng, hãy sắp xếp và trả về mảng có độ lớn tăng dần"
   ]
  },
  {
   "cell_type": "code",
   "execution_count": 4,
   "id": "91ad4d5d",
   "metadata": {},
   "outputs": [
    {
     "data": {
      "text/plain": [
       "[-26, 1, 5, 9, 261]"
      ]
     },
     "execution_count": 4,
     "metadata": {},
     "output_type": "execute_result"
    }
   ],
   "source": [
    "a = [5,9,-26,1,261]\n",
    "b = []\n",
    "def tangdan(L):\n",
    "    for i in range(len(L)):\n",
    "        m = min(L)\n",
    "        b.append(m)\n",
    "        a.remove(m)\n",
    "    return b\n",
    "       \n",
    "tangdan(a)"
   ]
  },
  {
   "cell_type": "markdown",
   "id": "025cc0cb",
   "metadata": {},
   "source": [
    "### Bài 4"
   ]
  },
  {
   "cell_type": "markdown",
   "id": "dbf885a9",
   "metadata": {},
   "source": [
    "Viết hàm với giá trị đầu vào là một mảng, tìm x sao cho đoạn [-x,x] chứa tất cả các giá trị có trong mảng"
   ]
  },
  {
   "cell_type": "code",
   "execution_count": 13,
   "id": "84606ea2",
   "metadata": {},
   "outputs": [
    {
     "data": {
      "text/plain": [
       "361"
      ]
     },
     "execution_count": 13,
     "metadata": {},
     "output_type": "execute_result"
    }
   ],
   "source": [
    "a = [5,9,361,4,-348,31]\n",
    "\n",
    "def timx(L):\n",
    "    M = max(L)\n",
    "    m = min(L)\n",
    "    if 0 < m < M:\n",
    "        return M\n",
    "    elif m < M < 0:\n",
    "        return m\n",
    "    elif abs(m) < abs(M):\n",
    "        return M\n",
    "    elif abs(m) > abs(M):\n",
    "        return m\n",
    "    else:\n",
    "        return 0\n",
    "\n",
    "timx(a)"
   ]
  },
  {
   "cell_type": "code",
   "execution_count": 14,
   "id": "884398a7",
   "metadata": {},
   "outputs": [
    {
     "data": {
      "text/plain": [
       "361"
      ]
     },
     "execution_count": 14,
     "metadata": {},
     "output_type": "execute_result"
    }
   ],
   "source": [
    "a = [5,9,361,4,-348,31]\n",
    "\n",
    "def timx(L):\n",
    "    M = abs(L[0])\n",
    "    for i in L:\n",
    "        if M < abs(i):\n",
    "            M = i\n",
    "    return M\n",
    "\n",
    "timx(a)"
   ]
  },
  {
   "cell_type": "markdown",
   "id": "98aa10b5",
   "metadata": {},
   "source": [
    "### Bài 5"
   ]
  },
  {
   "cell_type": "markdown",
   "id": "a7fe3092",
   "metadata": {},
   "source": [
    "Viết hàm với giá trị đầu vào là một mảng, Hãy tìm một vị trí trong mảng thỏa hai điền kiện: có hai giá trị lân cận và giá trị tại vị trí đó bằng tích hai giá trị lân cận. Nếu mảng không tồn tại giá trị như vậy thì hàm trả về giá trị - 1"
   ]
  },
  {
   "cell_type": "code",
   "execution_count": 17,
   "id": "9d55cb01",
   "metadata": {},
   "outputs": [
    {
     "data": {
      "text/plain": [
       "4"
      ]
     },
     "execution_count": 17,
     "metadata": {},
     "output_type": "execute_result"
    }
   ],
   "source": [
    "a = [5,9,361,4,32,8,-348,31]\n",
    "\n",
    "def nhk(L):\n",
    "    for i in range(1,len(L)-1):\n",
    "        if L[i] == L[i-1]*L[i+1]:\n",
    "            return i\n",
    "    return -1\n",
    "\n",
    "nhk(a)    "
   ]
  },
  {
   "cell_type": "markdown",
   "id": "035325d7",
   "metadata": {},
   "source": [
    "### Bài 6"
   ]
  },
  {
   "cell_type": "markdown",
   "id": "e2d35127",
   "metadata": {},
   "source": [
    "Viết hàm có giá trị đầu vào là một mảng. Hãy tìm giá trị đầu tiên trong mảng một chiều các số nguyên có chữ số đầu tiên là chữ số lẻ. Nếu trong mảng không tồn tại giá trị như vậy thì hàm sẽ trả về giá trị 0."
   ]
  },
  {
   "cell_type": "code",
   "execution_count": 14,
   "id": "b8a8b8a2",
   "metadata": {},
   "outputs": [
    {
     "data": {
      "text/plain": [
       "362"
      ]
     },
     "execution_count": 14,
     "metadata": {},
     "output_type": "execute_result"
    }
   ],
   "source": [
    "a = [2,4,6,-362,4,32,8,-348,31]\n",
    "\n",
    "def timx(L):\n",
    "    for i in L:\n",
    "        i = abs(i)\n",
    "        if int(str(i)[0]) % 2 == 1:\n",
    "            return i\n",
    "    return 0\n",
    "\n",
    "timx(a)"
   ]
  },
  {
   "cell_type": "markdown",
   "id": "da270d1a",
   "metadata": {},
   "source": [
    "### Bài 7"
   ]
  },
  {
   "cell_type": "markdown",
   "id": "079fdafe",
   "metadata": {},
   "source": [
    "Viết hàm có giá trị đầu vào là một mảng. Hãy tìm giá trị đầu tiên trong mảng có dạng 2^k. Nếu mảng không tồn tại giá trị dạng 2^k thì hàm sẽ trả về giá trị 0."
   ]
  },
  {
   "cell_type": "code",
   "execution_count": 15,
   "id": "f9311f33",
   "metadata": {},
   "outputs": [
    {
     "data": {
      "text/plain": [
       "1024"
      ]
     },
     "execution_count": 15,
     "metadata": {},
     "output_type": "execute_result"
    }
   ],
   "source": [
    "import math\n",
    "\n",
    "a = [9,3,35,1024,759,127,362,7,32,23,31,8]\n",
    "\n",
    "def timx(L):\n",
    "    for i in L:\n",
    "        j = int(math.log2(int(i)) // 1) + 1\n",
    "        for k in range(1,j):\n",
    "            if i == 2**k:\n",
    "                return i\n",
    "    return 0\n",
    "timx(a)\n"
   ]
  },
  {
   "cell_type": "markdown",
   "id": "80c8ab17",
   "metadata": {},
   "source": [
    "### Bài 8"
   ]
  },
  {
   "cell_type": "markdown",
   "id": "47c3a2e2",
   "metadata": {},
   "source": [
    "Viết hàm có giá trị đầu vào là một mảng. Hãy tìm giá trị thỏa điều kiện toàn chữ số lẻ và là giá trị lớn nhất thỏa điều kiện ấy trong mảng (nếu mảng không có giá trị thỏa điều kiện trên thì hàm trả về giá trị 0)"
   ]
  },
  {
   "cell_type": "code",
   "execution_count": 11,
   "id": "f8740d98",
   "metadata": {},
   "outputs": [
    {
     "data": {
      "text/plain": [
       "759"
      ]
     },
     "execution_count": 11,
     "metadata": {},
     "output_type": "execute_result"
    }
   ],
   "source": [
    "a = [261,3,35,759,127,364,4,32,8,31]\n",
    "\n",
    "def timx(L):\n",
    "    b = []\n",
    "    dem = 0\n",
    "    for i in L:\n",
    "        for j in range(len(str(i))):\n",
    "            if int(str(i)[j]) % 2 == 1:\n",
    "                dem += 1\n",
    "                if dem < len(str(i)):\n",
    "                    continue\n",
    "                else:\n",
    "                    b.append(i)\n",
    "            dem = 0\n",
    "    M = max(b)\n",
    "    return M\n",
    "\n",
    "timx(a)"
   ]
  },
  {
   "cell_type": "code",
   "execution_count": null,
   "id": "b928d793",
   "metadata": {},
   "outputs": [],
   "source": [
    "a = [2,4,35,-759,127,362,4,32,8,31]\n",
    "\n"
   ]
  },
  {
   "cell_type": "markdown",
   "id": "8a09bf26",
   "metadata": {},
   "source": [
    "### Bài 9"
   ]
  },
  {
   "cell_type": "markdown",
   "id": "09f9a4c6",
   "metadata": {},
   "source": [
    "Trong kỳ thi học sinh giỏi môn Tin học, một học sinh là người đạt giải đặc biệt. Ban tổ chức cho phép học sinh đó chọn các phần thưởng cho mình.\n",
    "\n",
    "Các phần thưởng xếp thành một dãy được đánh số từ 1 đến N (0 ≤ N ≤ 10000), phần thưởng thứ i có giá trị là Ai (1 ≤ Ai ≤ 100).\n",
    "\n",
    "Học sinh được phép chọn các phần thưởng cho mình theo nguyên tắc không chọn 3 phần thưởng liên tiếp nhau trong dãy.\n",
    "\n",
    "Viết chương trình để máy tính hướng dẫn học sinh đó chọn các phần thưởng sao cho tổng giá trị của các phần thưởng nhận được là lớn nhất.\n",
    "\n",
    "Nhập vào N, sau đó nhập n lần các giá trị Ai\n",
    "\n",
    "In ra giá trị lớn nhất học sinh được chọn, và các vị trí mà học sinh cần chọn để đạt được giá trị lớn nhất"
   ]
  },
  {
   "cell_type": "code",
   "execution_count": null,
   "id": "c350a1e9",
   "metadata": {},
   "outputs": [],
   "source": []
  }
 ],
 "metadata": {
  "kernelspec": {
   "display_name": "Python 3 (ipykernel)",
   "language": "python",
   "name": "python3"
  },
  "language_info": {
   "codemirror_mode": {
    "name": "ipython",
    "version": 3
   },
   "file_extension": ".py",
   "mimetype": "text/x-python",
   "name": "python",
   "nbconvert_exporter": "python",
   "pygments_lexer": "ipython3",
   "version": "3.10.4"
  }
 },
 "nbformat": 4,
 "nbformat_minor": 5
}
