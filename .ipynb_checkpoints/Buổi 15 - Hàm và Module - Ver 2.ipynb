{
 "cells": [
  {
   "cell_type": "markdown",
   "id": "73456e5e",
   "metadata": {},
   "source": [
    "# Hàm\n",
    "\n",
    "### Hàm\n",
    "\n",
    "Cú pháp:\n",
    "\n",
    "`def <tên hàm>(<tham số)>:\n",
    "    //Nội dung hàm`\n",
    "\n",
    "Gọi hàm:\n",
    "`<tên hàm>(<giá trị đầu vào>)`\n",
    "\n",
    "Ví dụ:\n",
    "\n",
    "Hãy viết 1 hàm số để tính tổng 2 số đầu vào và in nó ra màn hình"
   ]
  },
  {
   "cell_type": "code",
   "execution_count": 2,
   "id": "af5b9f6d",
   "metadata": {},
   "outputs": [
    {
     "name": "stdout",
     "output_type": "stream",
     "text": [
      "Em nhớ chị\n",
      "ENC\n"
     ]
    }
   ],
   "source": [
    "def KG():\n",
    "    print(\"Em nhớ chị\")\n",
    "    print(\"ENC\")\n",
    "KG()"
   ]
  },
  {
   "cell_type": "code",
   "execution_count": 6,
   "id": "9b593fbf",
   "metadata": {},
   "outputs": [
    {
     "name": "stdout",
     "output_type": "stream",
     "text": [
      "Tên: KIEN\n",
      "DOB: 1995\n",
      "KIEN 27\n",
      "1983\n"
     ]
    }
   ],
   "source": [
    "def thongtin():\n",
    "    name = input(\"Tên: \")\n",
    "    DOB = int(input(\"DOB: \"))\n",
    "    print(name, 2022-DOB)\n",
    "a = 1983    \n",
    "thongtin()\n",
    "print(a)"
   ]
  },
  {
   "cell_type": "code",
   "execution_count": 7,
   "id": "f3908aed",
   "metadata": {},
   "outputs": [
    {
     "name": "stdout",
     "output_type": "stream",
     "text": [
      "21\n",
      "21\n"
     ]
    }
   ],
   "source": [
    "def demo():\n",
    "    global a \n",
    "    a = 21 ## a là biến global, nên thi thay đổi giá trị của a, biến global bên ngoài #def cũng sẽ thay đổi theo\n",
    "    print(a)\n",
    "\n",
    "a = 26\n",
    "demo()\n",
    "print(a)"
   ]
  },
  {
   "cell_type": "code",
   "execution_count": 8,
   "id": "b9c73e0e",
   "metadata": {},
   "outputs": [
    {
     "name": "stdout",
     "output_type": "stream",
     "text": [
      "81\n"
     ]
    }
   ],
   "source": [
    "def mu2(a):\n",
    "    b = a**2\n",
    "    print(b)\n",
    "\n",
    "mu2(9)"
   ]
  },
  {
   "cell_type": "code",
   "execution_count": 9,
   "id": "06df96bd",
   "metadata": {},
   "outputs": [
    {
     "ename": "SyntaxError",
     "evalue": "name 'a' is parameter and global (3155488883.py, line 2)",
     "output_type": "error",
     "traceback": [
      "\u001b[1;36m  Input \u001b[1;32mIn [9]\u001b[1;36m\u001b[0m\n\u001b[1;33m    global a\u001b[0m\n\u001b[1;37m    ^\u001b[0m\n\u001b[1;31mSyntaxError\u001b[0m\u001b[1;31m:\u001b[0m name 'a' is parameter and global\n"
     ]
    }
   ],
   "source": [
    "def mu2(a):\n",
    "    global a\n",
    "    b = a**2\n",
    "    print(b)\n",
    "a = 5\n",
    "mu2(9)"
   ]
  },
  {
   "cell_type": "code",
   "execution_count": 13,
   "id": "107ba686",
   "metadata": {},
   "outputs": [
    {
     "name": "stdout",
     "output_type": "stream",
     "text": [
      "9 x 1 = 9\n",
      "9 x 2 = 18\n",
      "9 x 3 = 27\n",
      "9 x 4 = 36\n",
      "9 x 5 = 45\n",
      "9 x 6 = 54\n",
      "9 x 7 = 63\n",
      "9 x 8 = 72\n",
      "9 x 9 = 81\n",
      "9 x 10 = 90\n"
     ]
    }
   ],
   "source": [
    "def BCC(a):\n",
    "    for i in range(1,11):\n",
    "        b = a*i\n",
    "        print(a,\"x\",i,\"=\",b)\n",
    "BCC(9)"
   ]
  },
  {
   "cell_type": "code",
   "execution_count": 14,
   "id": "a8f62d45",
   "metadata": {},
   "outputs": [
    {
     "name": "stdout",
     "output_type": "stream",
     "text": [
      "12\n"
     ]
    }
   ],
   "source": [
    "def tong(a,b):\n",
    "    print(a+b)\n",
    "\n",
    "tong(5,7)"
   ]
  },
  {
   "cell_type": "code",
   "execution_count": null,
   "id": "9a2b9939",
   "metadata": {},
   "outputs": [],
   "source": []
  },
  {
   "cell_type": "markdown",
   "id": "a7c39f47",
   "metadata": {},
   "source": [
    "### Giá trị trả về của hàm\n",
    "\n",
    "# return\n",
    "\n",
    "Cú pháp:\n",
    "\n",
    "`retrun <giá trị trả về>`\n",
    "\n",
    "##### Lưu ý: Sau khi thực hiện lệnh return, chương trình sẽ thoát khỏi hàm ngay lập tức (những lệnh sau đó không được thực hiện)\n",
    "\n",
    "Ví dụ:\n",
    "\n",
    "Hãy viết 1 hàm trả về giá trị trung bình của 2 số bất kỳ"
   ]
  },
  {
   "cell_type": "code",
   "execution_count": null,
   "id": "d9036842",
   "metadata": {},
   "outputs": [],
   "source": []
  },
  {
   "cell_type": "code",
   "execution_count": 17,
   "id": "0b527b95",
   "metadata": {},
   "outputs": [
    {
     "name": "stdout",
     "output_type": "stream",
     "text": [
      "Tên SP: Bột giặt\n",
      "Giá SP: 2601\n",
      "Số lượng: 219\n"
     ]
    },
    {
     "data": {
      "text/plain": [
       "569619"
      ]
     },
     "execution_count": 17,
     "metadata": {},
     "output_type": "execute_result"
    }
   ],
   "source": [
    "def hanghoa(S,a):\n",
    "    print(\"Tên SP:\",S)\n",
    "    print(\"Giá SP:\",a)\n",
    "    SL = int(input(\"Số lượng: \"))\n",
    "    TT = SL*a\n",
    "    return TT\n",
    "\n",
    "hanghoa(\"Bột giặt\",2601)"
   ]
  },
  {
   "cell_type": "code",
   "execution_count": 2,
   "id": "67022ad6",
   "metadata": {},
   "outputs": [
    {
     "name": "stdout",
     "output_type": "stream",
     "text": [
      "Tên SP: Sườn\n",
      "Giá SP: 30000\n",
      "Số lượng: 2\n",
      "------\n",
      "Tên SP: Gà\n",
      "Giá SP: 35000\n",
      "Số lượng: 3\n",
      "------\n",
      "Tên SP: Trứng\n",
      "Giá SP: 25000\n",
      "Số lượng: 4\n",
      "------\n",
      "265000\n"
     ]
    }
   ],
   "source": [
    "def hanghoa(S,a):\n",
    "    print(\"Tên SP:\",S)\n",
    "    print(\"Giá SP:\",a)\n",
    "    SL = int(input(\"Số lượng: \"))\n",
    "    TT = SL*a\n",
    "    return TT\n",
    "\n",
    "suon = hanghoa(\"Sườn\",30000)\n",
    "print(\"------\")\n",
    "ga = hanghoa(\"Gà\",35000)\n",
    "print(\"------\")\n",
    "trung = hanghoa(\"Trứng\",25000)\n",
    "print(\"------\")\n",
    "Tổng = suon + ga + trung\n",
    "print(Tổng)"
   ]
  },
  {
   "cell_type": "markdown",
   "id": "1d7f8db0",
   "metadata": {},
   "source": [
    "### Bài tập"
   ]
  },
  {
   "cell_type": "markdown",
   "id": "75fb488b",
   "metadata": {},
   "source": [
    "Viết hàm kiểm tra số nguyên tố"
   ]
  },
  {
   "cell_type": "code",
   "execution_count": 6,
   "id": "63701bd7",
   "metadata": {},
   "outputs": [
    {
     "data": {
      "text/plain": [
       "False"
      ]
     },
     "execution_count": 6,
     "metadata": {},
     "output_type": "execute_result"
    }
   ],
   "source": [
    "def songuyento(a):\n",
    "    dem = 0\n",
    "    for i in range(1,a+1):\n",
    "        if a % i == 0:\n",
    "            dem += 1\n",
    "    if dem == 2:\n",
    "        return True\n",
    "    else:\n",
    "        return False\n",
    "\n",
    "songuyento(125)"
   ]
  },
  {
   "cell_type": "code",
   "execution_count": 7,
   "id": "d97da39e",
   "metadata": {},
   "outputs": [
    {
     "name": "stdout",
     "output_type": "stream",
     "text": [
      "True\n"
     ]
    }
   ],
   "source": [
    "def songuyento(a):\n",
    "    check = True\n",
    "    if a < 2:\n",
    "        check = False\n",
    "    else:\n",
    "        for i in range(2,a):\n",
    "            if a % i == 0:\n",
    "                check = False\n",
    "                break\n",
    "            return check\n",
    "        \n",
    "print(songuyento(17))"
   ]
  },
  {
   "cell_type": "markdown",
   "id": "221103cf",
   "metadata": {},
   "source": [
    "Nhập vào 3 điểm toán, lý, hóa\n",
    "\n",
    "Hãy viết hàm in điểm trung bung bình rồi tính điểm trung bình của toán lý, toán hóa, lý hóa và toán lý hóa"
   ]
  },
  {
   "cell_type": "code",
   "execution_count": null,
   "id": "1ba1d8ae",
   "metadata": {},
   "outputs": [],
   "source": []
  },
  {
   "cell_type": "markdown",
   "id": "06eb5c4a",
   "metadata": {},
   "source": [
    "Viết hàm tính giai thừa của một số"
   ]
  },
  {
   "cell_type": "code",
   "execution_count": 11,
   "id": "7b91ddf0",
   "metadata": {},
   "outputs": [
    {
     "data": {
      "text/plain": [
       "120"
      ]
     },
     "execution_count": 11,
     "metadata": {},
     "output_type": "execute_result"
    }
   ],
   "source": [
    "def giaithua(a):\n",
    "    S = 1\n",
    "    if a == 0:\n",
    "        S = 1\n",
    "    else:\n",
    "        for i in range(1,a+1):\n",
    "            S *= i\n",
    "    return S\n",
    "\n",
    "giaithua(5)"
   ]
  },
  {
   "cell_type": "markdown",
   "id": "50f43307",
   "metadata": {},
   "source": [
    "Viết hàm đếm số lượng từ của một chuỗi đưa vào"
   ]
  },
  {
   "cell_type": "code",
   "execution_count": 9,
   "id": "be785b29",
   "metadata": {},
   "outputs": [
    {
     "name": "stdout",
     "output_type": "stream",
     "text": [
      "4\n"
     ]
    }
   ],
   "source": [
    "def dem(a):\n",
    "    dem = 0\n",
    "    for i in a:\n",
    "        if i == \" \":\n",
    "            dem += 1\n",
    "    return dem + 1\n",
    "print(dem(\"Nguyen Kien Hien Giang\"))"
   ]
  },
  {
   "cell_type": "markdown",
   "id": "696aa7d2",
   "metadata": {},
   "source": [
    "Viết hàm có giá trị đầu vào là tên sản phẩm, giá một sản phẩm và số lượng sản phẩm, tính và trả về tổng giá tiền"
   ]
  },
  {
   "cell_type": "code",
   "execution_count": 5,
   "id": "da2213a2",
   "metadata": {},
   "outputs": [
    {
     "name": "stdout",
     "output_type": "stream",
     "text": [
      "45000\n"
     ]
    }
   ],
   "source": [
    "def tinhtien(ten,gia,soluong):\n",
    "    return soluong*gia\n",
    "\n",
    "print(tinhtien(\"Bánh chuối\",3000,15))"
   ]
  },
  {
   "cell_type": "markdown",
   "id": "acdf1356",
   "metadata": {},
   "source": [
    "Viết hàm lấy tên đệm\n",
    "\n",
    "Ví dụ: Nhập vào \"Nguyễn Tâm Điền\"\n",
    "\n",
    "Kết quả in ra là: \"Tâm\""
   ]
  },
  {
   "cell_type": "code",
   "execution_count": 11,
   "id": "0db7b468",
   "metadata": {},
   "outputs": [
    {
     "name": "stdout",
     "output_type": "stream",
     "text": [
      "2\n",
      "13\n"
     ]
    }
   ],
   "source": [
    "a = \"NguyenHuyKiene\"\n",
    "b = a.find(\"u\")\n",
    "c = a.rfind(\"e\")\n",
    "print(b)\n",
    "print(c)"
   ]
  },
  {
   "cell_type": "code",
   "execution_count": 19,
   "id": "a5255f7a",
   "metadata": {},
   "outputs": [
    {
     "name": "stdout",
     "output_type": "stream",
     "text": [
      "Huy\n"
     ]
    }
   ],
   "source": [
    "def laytendem(hoten):\n",
    "    a = hoten.find(\" \")\n",
    "    b = hoten.rfind(\" \")\n",
    "    c = hoten[a+1:b]\n",
    "    print(c)\n",
    "laytendem(\"Nguyễn Huy Kiên\")\n",
    "    "
   ]
  },
  {
   "cell_type": "markdown",
   "id": "b4adef40",
   "metadata": {},
   "source": [
    "Viết một hàm vẽ hình tròn, một hàm vẽ hình vuông và một hàm vẽ hình tam giác đều (giá trị đầu vào là a)\n",
    "\n",
    "Tất cả hàm này, bắt đầu từ 1 vị trí, sau khi vẽ ra, con trỏ sẽ tiến tới vị trí tiếp theo, cách vì đầu một khoảng a + 10 theo \n",
    "chiều x từ trái sang"
   ]
  },
  {
   "cell_type": "code",
   "execution_count": 1,
   "id": "e405d1d4",
   "metadata": {},
   "outputs": [],
   "source": [
    "import turtle\n",
    "t = turtle.Turtle()\n",
    "\n",
    "def vehinhtron(a):\n",
    "    t.penup()\n",
    "    t.fd(a/2)\n",
    "    t.pendown()\n",
    "    t.circle(a/2)\n",
    "    t.penup()\n",
    "    t.fd(a/2 + 10)\n",
    "    t.pendown()\n",
    "    \n",
    "def vehinhvuong(a):\n",
    "    for i in range(4):\n",
    "        t.fd(a)\n",
    "        t.lt(90)\n",
    "    t.penup()\n",
    "    t.fd(a+10)\n",
    "    t.pendown()\n",
    "\n",
    "def vehinhtamgiac(a):\n",
    "    for i in range(3):\n",
    "        t.fd(a)\n",
    "        t.lt(120)\n",
    "    \n",
    "vehinhtron(50)\n",
    "vehinhvuong(50)\n",
    "vehinhtamgiac(50)    "
   ]
  }
 ],
 "metadata": {
  "kernelspec": {
   "display_name": "Python 3 (ipykernel)",
   "language": "python",
   "name": "python3"
  },
  "language_info": {
   "codemirror_mode": {
    "name": "ipython",
    "version": 3
   },
   "file_extension": ".py",
   "mimetype": "text/x-python",
   "name": "python",
   "nbconvert_exporter": "python",
   "pygments_lexer": "ipython3",
   "version": "3.10.4"
  }
 },
 "nbformat": 4,
 "nbformat_minor": 5
}
